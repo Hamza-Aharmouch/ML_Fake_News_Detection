{
 "cells": [
  {
   "cell_type": "code",
   "execution_count": 68,
   "id": "4f7cf9e0",
   "metadata": {},
   "outputs": [],
   "source": [
    "import pandas as pd\n",
    "import re\n",
    "import numpy as np\n",
    "import os\n",
    "import pandas as pd\n",
    "import numpy as np\n",
    "from nltk.tokenize import word_tokenize\n",
    "from nltk import pos_tag\n",
    "from nltk.corpus import stopwords\n",
    "from nltk.stem import WordNetLemmatizer\n",
    "from sklearn.preprocessing import LabelEncoder\n",
    "from collections import defaultdict\n",
    "from nltk.corpus import wordnet as wn\n",
    "from sklearn.feature_extraction.text import TfidfVectorizer\n",
    "from sklearn import model_selection, naive_bayes, svm\n",
    "from sklearn.metrics import accuracy_score"
   ]
  },
  {
   "cell_type": "code",
   "execution_count": 69,
   "id": "f29336ce",
   "metadata": {},
   "outputs": [
    {
     "name": "stdout",
     "output_type": "stream",
     "text": [
      "<class 'pandas.core.frame.DataFrame'>\n",
      "RangeIndex: 2868 entries, 0 to 2867\n",
      "Data columns (total 2 columns):\n",
      " #   Column   Non-Null Count  Dtype \n",
      "---  ------   --------------  ----- \n",
      " 0   title    2868 non-null   object\n",
      " 1   details  2868 non-null   object\n",
      "dtypes: object(2)\n",
      "memory usage: 44.9+ KB\n"
     ]
    }
   ],
   "source": [
    "df=pd.read_json(\"data_3000.json\")\n",
    "#df.head(20)\n",
    "tittle_1=df['title'][0]\n",
    "tittle_=tittle_1\n",
    "df.info()"
   ]
  },
  {
   "cell_type": "code",
   "execution_count": 70,
   "id": "360339cd",
   "metadata": {
    "scrolled": true
   },
   "outputs": [
    {
     "data": {
      "text/html": [
       "<div>\n",
       "<style scoped>\n",
       "    .dataframe tbody tr th:only-of-type {\n",
       "        vertical-align: middle;\n",
       "    }\n",
       "\n",
       "    .dataframe tbody tr th {\n",
       "        vertical-align: top;\n",
       "    }\n",
       "\n",
       "    .dataframe thead th {\n",
       "        text-align: right;\n",
       "    }\n",
       "</style>\n",
       "<table border=\"1\" class=\"dataframe\">\n",
       "  <thead>\n",
       "    <tr style=\"text-align: right;\">\n",
       "      <th></th>\n",
       "      <th>title</th>\n",
       "      <th>details</th>\n",
       "    </tr>\n",
       "  </thead>\n",
       "  <tbody>\n",
       "    <tr>\n",
       "      <th>0</th>\n",
       "      <td>Covid   morts la baisse se poursuit dans les s...</td>\n",
       "      <td>Le nombre de malades du Covid dans les service...</td>\n",
       "    </tr>\n",
       "    <tr>\n",
       "      <th>1</th>\n",
       "      <td>Covid  un essai lancé en France sur linterchan...</td>\n",
       "      <td>Une dose de Moderna puis une dose de Pfizer Bi...</td>\n",
       "    </tr>\n",
       "    <tr>\n",
       "      <th>2</th>\n",
       "      <td>Covid  malgré son retard initial la France fai...</td>\n",
       "      <td>Après des débuts difficiles la campagne vaccin...</td>\n",
       "    </tr>\n",
       "    <tr>\n",
       "      <th>3</th>\n",
       "      <td>Covid  vaccinodrome cherche vaccinateurs le jo...</td>\n",
       "      <td>Après une campagne de recrutement organisée pa...</td>\n",
       "    </tr>\n",
       "    <tr>\n",
       "      <th>4</th>\n",
       "      <td>Covid  la baisse des hospitalisations se poursuit</td>\n",
       "      <td>Le nombre de malades du Covid à lhôpital servi...</td>\n",
       "    </tr>\n",
       "    <tr>\n",
       "      <th>...</th>\n",
       "      <td>...</td>\n",
       "      <td>...</td>\n",
       "    </tr>\n",
       "    <tr>\n",
       "      <th>2863</th>\n",
       "      <td>Vaccin  en France \"il est très difficile de sa...</td>\n",
       "      <td>Alors que la campagne française de vaccination...</td>\n",
       "    </tr>\n",
       "    <tr>\n",
       "      <th>2864</th>\n",
       "      <td>Succès inattendu pour les stations de ski malg...</td>\n",
       "      <td>Neige abondante soleil Lors des vacances de No...</td>\n",
       "    </tr>\n",
       "    <tr>\n",
       "      <th>2865</th>\n",
       "      <td>Covid  comment les Français concernés par le c...</td>\n",
       "      <td>Pas moins de six millions de Français de lest ...</td>\n",
       "    </tr>\n",
       "    <tr>\n",
       "      <th>2866</th>\n",
       "      <td>Covid  vaccination à grande échelle à Pékin av...</td>\n",
       "      <td>Plus de  Pékinois ont été vaccinés contre le c...</td>\n",
       "    </tr>\n",
       "    <tr>\n",
       "      <th>2867</th>\n",
       "      <td>Covid-19 : le vaccin de Moderna va être autori...</td>\n",
       "      <td>Invitée de Patrick Cohen sur Europe 1, lundi, ...</td>\n",
       "    </tr>\n",
       "  </tbody>\n",
       "</table>\n",
       "<p>2868 rows × 2 columns</p>\n",
       "</div>"
      ],
      "text/plain": [
       "                                                  title  \\\n",
       "0     Covid   morts la baisse se poursuit dans les s...   \n",
       "1     Covid  un essai lancé en France sur linterchan...   \n",
       "2     Covid  malgré son retard initial la France fai...   \n",
       "3     Covid  vaccinodrome cherche vaccinateurs le jo...   \n",
       "4     Covid  la baisse des hospitalisations se poursuit   \n",
       "...                                                 ...   \n",
       "2863  Vaccin  en France \"il est très difficile de sa...   \n",
       "2864  Succès inattendu pour les stations de ski malg...   \n",
       "2865  Covid  comment les Français concernés par le c...   \n",
       "2866  Covid  vaccination à grande échelle à Pékin av...   \n",
       "2867  Covid-19 : le vaccin de Moderna va être autori...   \n",
       "\n",
       "                                                details  \n",
       "0     Le nombre de malades du Covid dans les service...  \n",
       "1     Une dose de Moderna puis une dose de Pfizer Bi...  \n",
       "2     Après des débuts difficiles la campagne vaccin...  \n",
       "3     Après une campagne de recrutement organisée pa...  \n",
       "4     Le nombre de malades du Covid à lhôpital servi...  \n",
       "...                                                 ...  \n",
       "2863  Alors que la campagne française de vaccination...  \n",
       "2864  Neige abondante soleil Lors des vacances de No...  \n",
       "2865  Pas moins de six millions de Français de lest ...  \n",
       "2866  Plus de  Pékinois ont été vaccinés contre le c...  \n",
       "2867  Invitée de Patrick Cohen sur Europe 1, lundi, ...  \n",
       "\n",
       "[2868 rows x 2 columns]"
      ]
     },
     "execution_count": 70,
     "metadata": {},
     "output_type": "execute_result"
    }
   ],
   "source": [
    "#title_0=df['title'][0]\n",
    "df['title']=df['title'].astype('str') \n",
    "df['details']=df['details'].astype('str') #date\n",
    "#df['date']=df['date'].astype('str')\n",
    "\n",
    "def clean_data(text):\n",
    "    for ch in ['','\\ufeff','\\u200b','\\\"\"','.',',','%','\\\\','`','«', '_','{','}','[',']','(',')','>','#','+','-','!','$','\\'','/','»',':','“','”','xa0','\"\"','1','2','3','4','5','6','7','8','9','0','?','!','’']:\n",
    "        if ch in text:\n",
    "            text = text.replace(ch,\"\")         \n",
    "    return text\n",
    "\n",
    "\n",
    "\n",
    "\n",
    "def clean_scraped_data():\n",
    "    for j in range(0,2867):\n",
    "        df['title'][j]=clean_data(df['title'][j])\n",
    "        df['details'][j]=clean_data(df['details'][j])\n",
    "        #df['date'][j]=clean_data(df['date'][j])\n",
    "         \n",
    "     \n",
    "    return df                     \n",
    "\n",
    "\n",
    "df=clean_scraped_data()\n",
    "df\n",
    "    "
   ]
  },
  {
   "cell_type": "code",
   "execution_count": 71,
   "id": "744e2d6d",
   "metadata": {},
   "outputs": [],
   "source": [
    "data=  pd.DataFrame()\n",
    "data['text'] = df['title'] + \" \" + df['details']\n",
    "#df = df.drop([ 'date'],axis=1)"
   ]
  },
  {
   "cell_type": "code",
   "execution_count": 72,
   "id": "141267b2",
   "metadata": {
    "scrolled": false
   },
   "outputs": [],
   "source": [
    "#text=\"\" # data sous forme text (one string)\n",
    "#with open('data_cleaned_.txt', 'w') as f:\n",
    "  #  for i in range(0,2867):\n",
    "   #     text=text+str(data['text'][i])\n",
    "    #    f.write(str(data['text'][i]))       "
   ]
  },
  {
   "cell_type": "code",
   "execution_count": 73,
   "id": "936d81c0",
   "metadata": {
    "scrolled": true
   },
   "outputs": [
    {
     "data": {
      "text/plain": [
       "0       Covid   morts la baisse se poursuit dans les s...\n",
       "1       Covid  un essai lancé en France sur linterchan...\n",
       "2       Covid  malgré son retard initial la France fai...\n",
       "3       Covid  vaccinodrome cherche vaccinateurs le jo...\n",
       "4       Covid  la baisse des hospitalisations se pours...\n",
       "                              ...                        \n",
       "2863    Vaccin  en France \"il est très difficile de sa...\n",
       "2864    Succès inattendu pour les stations de ski malg...\n",
       "2865    Covid  comment les Français concernés par le c...\n",
       "2866    Covid  vaccination à grande échelle à Pékin av...\n",
       "2867    Covid-19 : le vaccin de Moderna va être autori...\n",
       "Name: text, Length: 2868, dtype: object"
      ]
     },
     "execution_count": 73,
     "metadata": {},
     "output_type": "execute_result"
    }
   ],
   "source": [
    "data['text']"
   ]
  },
  {
   "cell_type": "code",
   "execution_count": 74,
   "id": "f091a687",
   "metadata": {},
   "outputs": [],
   "source": [
    "import random\n",
    "\n",
    "foo = [0,1]\n",
    "#print(random.choice(foo))"
   ]
  },
  {
   "cell_type": "code",
   "execution_count": 75,
   "id": "55e9ef96",
   "metadata": {},
   "outputs": [],
   "source": [
    "data['label']=0"
   ]
  },
  {
   "cell_type": "code",
   "execution_count": 76,
   "id": "48343338",
   "metadata": {},
   "outputs": [
    {
     "name": "stderr",
     "output_type": "stream",
     "text": [
      "<ipython-input-76-027596656ef6>:2: SettingWithCopyWarning: \n",
      "A value is trying to be set on a copy of a slice from a DataFrame\n",
      "\n",
      "See the caveats in the documentation: https://pandas.pydata.org/pandas-docs/stable/user_guide/indexing.html#returning-a-view-versus-a-copy\n",
      "  data['label'][i]=random.choice(foo)\n"
     ]
    }
   ],
   "source": [
    "for i in range(0,2867):\n",
    "    data['label'][i]=random.choice(foo)\n"
   ]
  },
  {
   "cell_type": "code",
   "execution_count": 77,
   "id": "8c572967",
   "metadata": {},
   "outputs": [
    {
     "name": "stdout",
     "output_type": "stream",
     "text": [
      "1404\n",
      "1464\n"
     ]
    }
   ],
   "source": [
    "no_of_fakes = data.loc[data['label'] == 1].count()[0]\n",
    "no_of_trues = data.loc[data['label'] == 0].count()[0]\n",
    "print(no_of_fakes)\n",
    "print(no_of_trues)"
   ]
  },
  {
   "cell_type": "markdown",
   "id": "f0860891",
   "metadata": {},
   "source": [
    "### Data pre-processing"
   ]
  },
  {
   "cell_type": "code",
   "execution_count": 78,
   "id": "1118136d",
   "metadata": {},
   "outputs": [],
   "source": [
    "# Step - a : Remove blank rows \n",
    "data['text'].dropna(inplace=True)"
   ]
  },
  {
   "cell_type": "code",
   "execution_count": 79,
   "id": "3a80730f",
   "metadata": {},
   "outputs": [],
   "source": [
    "# Step - b : Change all the text to lower case.  \n",
    "data['text'] = [entry.lower() for entry in data['text']]"
   ]
  },
  {
   "cell_type": "code",
   "execution_count": 81,
   "id": "27a29638",
   "metadata": {
    "scrolled": true
   },
   "outputs": [
    {
     "name": "stdout",
     "output_type": "stream",
     "text": [
      "0       [covid, morts, la, baisse, se, poursuit, dans,...\n",
      "1       [covid, un, essai, lancé, en, france, sur, lin...\n",
      "2       [covid, malgré, son, retard, initial, la, fran...\n",
      "3       [covid, vaccinodrome, cherche, vaccinateurs, l...\n",
      "4       [covid, la, baisse, des, hospitalisations, se,...\n",
      "                              ...                        \n",
      "2863    [vaccin, en, france, ``, il, est, très, diffic...\n",
      "2864    [succès, inattendu, pour, les, stations, de, s...\n",
      "2865    [covid, comment, les, français, concernés, par...\n",
      "2866    [covid, vaccination, à, grande, échelle, à, pé...\n",
      "2867    [covid-19, :, le, vaccin, de, moderna, va, êtr...\n",
      "Name: text, Length: 2868, dtype: object\n"
     ]
    }
   ],
   "source": [
    "for i in range(0,2867):\n",
    "    mytxt=\"\"\n",
    "    mytxt=str(data['text'][i])\n",
    "print(data['text'])"
   ]
  },
  {
   "cell_type": "code",
   "execution_count": 80,
   "id": "d0f4b6a4",
   "metadata": {},
   "outputs": [],
   "source": [
    "# Step - c : Tokenization : In this each entry in the corpus will be broken into set of words\n",
    "data['text']= [word_tokenize(entry) for entry in data['text']]"
   ]
  },
  {
   "cell_type": "code",
   "execution_count": 82,
   "id": "a67b1db0",
   "metadata": {},
   "outputs": [],
   "source": [
    "from spacy.lang.fr.stop_words import STOP_WORDS as fr_stop\n",
    "\n",
    "\n",
    "final_stopwords_list = list(fr_stop) \n"
   ]
  },
  {
   "cell_type": "code",
   "execution_count": 83,
   "id": "56e60d13",
   "metadata": {},
   "outputs": [],
   "source": [
    "import spacy\n",
    "from spacy.lang.fr.examples import sentences \n",
    "import fr_core_news_md\n",
    "from spacy.lang.en import English     \n",
    "##-----------\n",
    "nlp = spacy.load('fr_core_news_md')     \n",
    "##-----------\n",
    "for index,entry in enumerate(data['text']):\n",
    "    # Declaring Empty List to store the words that follow the rules for this step\n",
    "    Final_words = []\n",
    "    # Initializing WordNetLemmatizer()\n",
    "    word_Lemmatized = WordNetLemmatizer()\n",
    "    # pos_tag function below will provide the 'tag' i.e if the word is Noun(N) or Verb(V)  \n",
    "    for word, tag in pos_tag(entry):\n",
    "        # Below condition is to check for Stop words and consider only alphabets\n",
    "        # \n",
    "        if word not in final_stopwords_list and word.isalpha():\n",
    "            #word_Final = word_Lemmatized.lemmatize(word)\n",
    "            word_Final = word\n",
    "            #steaming\n",
    "            doc = nlp(str(word_Final)) \n",
    "            for token in doc:\n",
    "                word_Final =  token.lemma_\n",
    "            \n",
    "            #word_Final=stemming(word_Final)\n",
    "            Final_words.append(word_Final)\n",
    "    # The final processed set of words for each iteration will be stored in 'text_final'\n",
    "    data.loc[index,'text_final'] = str(Final_words)"
   ]
  },
  {
   "cell_type": "code",
   "execution_count": 84,
   "id": "b56c61ff",
   "metadata": {
    "scrolled": false
   },
   "outputs": [
    {
     "data": {
      "text/plain": [
       "0       ['covid', 'mort', 'baisse', 'poursuivre', 'ser...\n",
       "1       ['covid', 'essai', 'lancer', 'france', 'linter...\n",
       "2       ['covid', 'malgré', 'retard', 'initial', 'fran...\n",
       "3       ['covid', 'vaccinodrome', 'cherche', 'vaccinat...\n",
       "4       ['covid', 'baisse', 'hospitalisation', 'poursu...\n",
       "                              ...                        \n",
       "2863    ['vaccin', 'france', 'très', 'difficile', 'sav...\n",
       "2864    ['succès', 'inattendu', 'station', 'ski', 'mal...\n",
       "2865    ['covid', 'français', 'concerner', 'couvrefeu'...\n",
       "2866    ['covid', 'vaccination', 'grand', 'échell', 'p...\n",
       "2867    ['vaccin', 'moderna', 'autoriser', 'heure', 'j...\n",
       "Name: text_final, Length: 2868, dtype: object"
      ]
     },
     "execution_count": 84,
     "metadata": {},
     "output_type": "execute_result"
    }
   ],
   "source": [
    "data['text_final']# dataframe removed stopword , applied  steaming !"
   ]
  },
  {
   "cell_type": "code",
   "execution_count": 96,
   "id": "1fa2b95a",
   "metadata": {},
   "outputs": [
    {
     "data": {
      "text/html": [
       "<div>\n",
       "<style scoped>\n",
       "    .dataframe tbody tr th:only-of-type {\n",
       "        vertical-align: middle;\n",
       "    }\n",
       "\n",
       "    .dataframe tbody tr th {\n",
       "        vertical-align: top;\n",
       "    }\n",
       "\n",
       "    .dataframe thead th {\n",
       "        text-align: right;\n",
       "    }\n",
       "</style>\n",
       "<table border=\"1\" class=\"dataframe\">\n",
       "  <thead>\n",
       "    <tr style=\"text-align: right;\">\n",
       "      <th></th>\n",
       "      <th>text</th>\n",
       "      <th>label</th>\n",
       "      <th>text_final</th>\n",
       "    </tr>\n",
       "  </thead>\n",
       "  <tbody>\n",
       "    <tr>\n",
       "      <th>0</th>\n",
       "      <td>[covid, morts, la, baisse, se, poursuit, dans,...</td>\n",
       "      <td>1</td>\n",
       "      <td>['covid', 'mort', 'baisse', 'poursuivre', 'ser...</td>\n",
       "    </tr>\n",
       "    <tr>\n",
       "      <th>1</th>\n",
       "      <td>[covid, un, essai, lancé, en, france, sur, lin...</td>\n",
       "      <td>1</td>\n",
       "      <td>['covid', 'essai', 'lancer', 'france', 'linter...</td>\n",
       "    </tr>\n",
       "    <tr>\n",
       "      <th>2</th>\n",
       "      <td>[covid, malgré, son, retard, initial, la, fran...</td>\n",
       "      <td>1</td>\n",
       "      <td>['covid', 'malgré', 'retard', 'initial', 'fran...</td>\n",
       "    </tr>\n",
       "    <tr>\n",
       "      <th>3</th>\n",
       "      <td>[covid, vaccinodrome, cherche, vaccinateurs, l...</td>\n",
       "      <td>0</td>\n",
       "      <td>['covid', 'vaccinodrome', 'cherche', 'vaccinat...</td>\n",
       "    </tr>\n",
       "    <tr>\n",
       "      <th>4</th>\n",
       "      <td>[covid, la, baisse, des, hospitalisations, se,...</td>\n",
       "      <td>1</td>\n",
       "      <td>['covid', 'baisse', 'hospitalisation', 'poursu...</td>\n",
       "    </tr>\n",
       "    <tr>\n",
       "      <th>...</th>\n",
       "      <td>...</td>\n",
       "      <td>...</td>\n",
       "      <td>...</td>\n",
       "    </tr>\n",
       "    <tr>\n",
       "      <th>2863</th>\n",
       "      <td>[vaccin, en, france, ``, il, est, très, diffic...</td>\n",
       "      <td>0</td>\n",
       "      <td>['vaccin', 'france', 'très', 'difficile', 'sav...</td>\n",
       "    </tr>\n",
       "    <tr>\n",
       "      <th>2864</th>\n",
       "      <td>[succès, inattendu, pour, les, stations, de, s...</td>\n",
       "      <td>0</td>\n",
       "      <td>['succès', 'inattendu', 'station', 'ski', 'mal...</td>\n",
       "    </tr>\n",
       "    <tr>\n",
       "      <th>2865</th>\n",
       "      <td>[covid, comment, les, français, concernés, par...</td>\n",
       "      <td>1</td>\n",
       "      <td>['covid', 'français', 'concerner', 'couvrefeu'...</td>\n",
       "    </tr>\n",
       "    <tr>\n",
       "      <th>2866</th>\n",
       "      <td>[covid, vaccination, à, grande, échelle, à, pé...</td>\n",
       "      <td>0</td>\n",
       "      <td>['covid', 'vaccination', 'grand', 'échell', 'p...</td>\n",
       "    </tr>\n",
       "    <tr>\n",
       "      <th>2867</th>\n",
       "      <td>[covid-19, :, le, vaccin, de, moderna, va, êtr...</td>\n",
       "      <td>0</td>\n",
       "      <td>['vaccin', 'moderna', 'autoriser', 'heure', 'j...</td>\n",
       "    </tr>\n",
       "  </tbody>\n",
       "</table>\n",
       "<p>2868 rows × 3 columns</p>\n",
       "</div>"
      ],
      "text/plain": [
       "                                                   text  label  \\\n",
       "0     [covid, morts, la, baisse, se, poursuit, dans,...      1   \n",
       "1     [covid, un, essai, lancé, en, france, sur, lin...      1   \n",
       "2     [covid, malgré, son, retard, initial, la, fran...      1   \n",
       "3     [covid, vaccinodrome, cherche, vaccinateurs, l...      0   \n",
       "4     [covid, la, baisse, des, hospitalisations, se,...      1   \n",
       "...                                                 ...    ...   \n",
       "2863  [vaccin, en, france, ``, il, est, très, diffic...      0   \n",
       "2864  [succès, inattendu, pour, les, stations, de, s...      0   \n",
       "2865  [covid, comment, les, français, concernés, par...      1   \n",
       "2866  [covid, vaccination, à, grande, échelle, à, pé...      0   \n",
       "2867  [covid-19, :, le, vaccin, de, moderna, va, êtr...      0   \n",
       "\n",
       "                                             text_final  \n",
       "0     ['covid', 'mort', 'baisse', 'poursuivre', 'ser...  \n",
       "1     ['covid', 'essai', 'lancer', 'france', 'linter...  \n",
       "2     ['covid', 'malgré', 'retard', 'initial', 'fran...  \n",
       "3     ['covid', 'vaccinodrome', 'cherche', 'vaccinat...  \n",
       "4     ['covid', 'baisse', 'hospitalisation', 'poursu...  \n",
       "...                                                 ...  \n",
       "2863  ['vaccin', 'france', 'très', 'difficile', 'sav...  \n",
       "2864  ['succès', 'inattendu', 'station', 'ski', 'mal...  \n",
       "2865  ['covid', 'français', 'concerner', 'couvrefeu'...  \n",
       "2866  ['covid', 'vaccination', 'grand', 'échell', 'p...  \n",
       "2867  ['vaccin', 'moderna', 'autoriser', 'heure', 'j...  \n",
       "\n",
       "[2868 rows x 3 columns]"
      ]
     },
     "execution_count": 96,
     "metadata": {},
     "output_type": "execute_result"
    }
   ],
   "source": [
    "data"
   ]
  },
  {
   "cell_type": "markdown",
   "id": "dab11bde",
   "metadata": {},
   "source": [
    "# ---------------------------------------------------------------------------------"
   ]
  },
  {
   "cell_type": "code",
   "execution_count": 161,
   "id": "b6446dcf",
   "metadata": {},
   "outputs": [
    {
     "data": {
      "text/plain": [
       "\"['covid', 'mort', 'baisse', 'poursuivre', 'service', 'réanimation', 'nombre', 'malade', 'covid', 'service', 'réanimation', 'poursuivre', 'baisse', 'mardi', 'total', 'hospitalisation', 'mois', 'chiffre', 'santé', 'public', 'france', 'service', 'soin', 'critique', 'compter', 'patient', 'contre', 'veille']\""
      ]
     },
     "execution_count": 161,
     "metadata": {},
     "output_type": "execute_result"
    }
   ],
   "source": [
    "data['text_final'][0]"
   ]
  },
  {
   "cell_type": "code",
   "execution_count": 163,
   "id": "b6b09571",
   "metadata": {},
   "outputs": [],
   "source": [
    "out = df.to_json(orient='records')[1:-1].replace('},{', '} {')\n",
    "with open('file_name.txt', 'w') as f:\n",
    "    f.write(out)"
   ]
  },
  {
   "cell_type": "markdown",
   "id": "dc1e7bde",
   "metadata": {},
   "source": [
    "### Prepare Train and Test Data sets"
   ]
  },
  {
   "cell_type": "code",
   "execution_count": 86,
   "id": "e2d21f96",
   "metadata": {},
   "outputs": [
    {
     "data": {
      "text/plain": [
       "((2294,), (574,), (2294,), (574,))"
      ]
     },
     "execution_count": 86,
     "metadata": {},
     "output_type": "execute_result"
    }
   ],
   "source": [
    "Train_X, Test_X, Train_Y, Test_Y = model_selection.train_test_split(data['text_final'],data['label'],test_size=0.2,random_state=42)\n",
    "\n",
    "Train_X.shape, Test_X.shape, Train_Y.shape, Test_Y.shape"
   ]
  },
  {
   "cell_type": "code",
   "execution_count": 87,
   "id": "d4ed4cc7",
   "metadata": {},
   "outputs": [],
   "source": [
    "Encoder = LabelEncoder()\n",
    "Train_Y = Encoder.fit_transform(Train_Y)\n",
    "Test_Y = Encoder.fit_transform(Test_Y)\n",
    "\n",
    " "
   ]
  },
  {
   "cell_type": "code",
   "execution_count": 88,
   "id": "b255a15e",
   "metadata": {},
   "outputs": [],
   "source": [
    "Tfidf_vect = TfidfVectorizer(max_features=5000)\n",
    "Tfidf_vect.fit(data['text_final'])\n",
    "Train_X_Tfidf = Tfidf_vect.transform(Train_X)\n",
    "Test_X_Tfidf = Tfidf_vect.transform(Test_X)"
   ]
  },
  {
   "cell_type": "code",
   "execution_count": 89,
   "id": "73feee1f",
   "metadata": {
    "scrolled": true
   },
   "outputs": [
    {
     "name": "stdout",
     "output_type": "stream",
     "text": [
      "{'covid': 925, 'mort': 2981, 'baisse': 323, 'poursuivre': 3454, 'service': 4206, 'réanimation': 3976, 'nombre': 3100, 'malade': 2790, 'mardi': 2817, 'total': 4587, 'hospitalisation': 2072, 'mois': 2957, 'chiffre': 613, 'santé': 4125, 'public': 3638, 'france': 1862, 'soin': 4276, 'critique': 942, 'compter': 760, 'patient': 3288, 'contre': 874, 'veille': 4751, 'essai': 1643, 'lancer': 2396, 'vaccin': 4718, 'arn': 212, 'messager': 2890, 'dose': 1321, 'moderna': 2949, 'pfizer': 3348, 'biontech': 393, 'linvers': 2622, 'mai': 2776, 'cours': 916, 'regarder': 3801, 'très': 4665, 'proche': 3504, 'céter': 989, 'cas': 541, 'vaccination': 4722, 'simplifier': 4236, 'faciliter': 1730, 'malgré': 2794, 'retard': 3889, 'initial': 2178, 'partie': 3268, 'bon': 414, 'élève': 4944, 'début': 1379, 'difficile': 1198, 'campagne': 511, 'vaccinale': 4720, 'français': 1871, 'rattraper': 3742, 'voisin': 4833, 'européen': 1665, 'million': 2922, 'recevoir': 3757, 'injection': 2182, 'population': 3428, 'louvertur': 2691, 'adulte': 58, 'lundi': 2703, 'gouvernement': 1960, 'compte': 758, 'objectif': 3148, 'primovacciner': 3480, 'juin': 2317, 'vaccinodrome': 4726, 'cherche': 608, 'vaccinateur': 4721, 'job': 2297, 'dété': 1531, 'attire': 265, 'recrutement': 3778, 'organiser': 3202, 'choir': 622, 'toulous': 4593, 'centaine': 563, 'détudiant': 1530, 'obtenir': 3157, 'étudiant': 4982, 'ville': 4791, 'sapprêt': 4128, 'ouvrir': 3218, 'jour': 2308, 'réalisation': 3972, 'tâche': 4674, 'administratif': 49, 'daccueil': 999, 'profil': 3520, 'lhôpital': 2563, 'inclure': 2142, 'continuer': 859, 'baisser': 324, 'vendredi': 4756, 'levée': 2534, 'restriction': 3887, 'terrasse': 4544, 'cinéma': 641, 'musée': 3010, 'hospitaliser': 2073, 'jeudi': 2292, 'statut': 4367, 'soignant': 4273, 'message': 2889, 'symbolique': 4447, 'lannonce': 2404, 'demmanuel': 1122, 'macron': 2771, 'mettre': 2894, 'place': 3383, 'république': 4022, 'saluer': 4106, 'travail': 4636, 'pandémie': 3229, 'thierry': 4563, 'porteparole': 3433, 'syndicat': 4451, 'national': 3056, 'professionnel': 3519, 'infirmier': 2170, 'réagir': 3970, 'europ': 1664, 'salue': 4105, 'décision': 1392, 'continue': 858, 'demander': 1114, 'maladie': 2791, 'victime': 4777, 'soulager': 4316, 'prudent': 3576, 'réouverture': 4011, 'cest': 575, 'lendemain': 2499, 'déplacement': 1484, 'mercredi': 2887, 'aprèsmidi': 204, 'rencontrer': 3833, 'jeune': 2293, 'emmanuel': 1573, 'sest': 4208, 'confier': 792, 'journaliste': 2310, 'sujet': 4406, 'chef': 604, 'letat': 2527, 'part': 3256, 'dun': 1354, 'nouveau': 3124, 'aggravation': 74, 'situation': 4257, 'sanitaire': 4119, 'difficulté': 1200, 'politique': 3418, 'majeur': 2785, 'série': 4481, 'contact': 844, 'média': 3020, 'émission': 4949, 'laurer': 2453, 'ruquier': 3961, 'diffuser': 1202, 'samedi': 4108, 'numéro': 3134, 'spécial': 4341, 'lémission': 2747, 'direct': 1242, 'consacrer': 813, 'centenaire': 564, 'radio': 3714, 'lun': 2701, 'invité': 2249, 'tester': 4552, 'positif': 3439, 'produire': 3513, 'grand': 1965, 'animateur': 151, 'bousculer': 438, 'leducation': 2482, 'contrainte': 868, 'revoir': 3907, 'notice': 3118, 'autotest': 293, 'erreur': 1635, 'raison': 3715, 'moitié': 2958, 'envoyer': 1632, 'lycée': 2719, 'indication': 2151, 'contraire': 869, 'résultat': 4038, 'test': 4551, 'dépistage': 1481, 'devoir': 1168, 'ministère': 2929, 'appeler': 189, 'anglosaxon': 147, 'arrêter': 221, 'bloquer': 406, 'exportation': 1701, 'président': 3615, 'coronavirus': 895, 'souhaite': 4312, 'solidarité': 4284, 'mondial': 2964, 'renforcer': 3837, 'mieux': 2909, 'lutter': 2717, 'déconfinement': 1401, 'couvrefeu': 921, 'lever': 2533, 'progressivement': 3532, 'déclarer': 1395, 'entretien': 1626, 'presse': 3472, 'régional': 3998, 'étape': 4971, 'clé': 673, 'sortie': 4304, 'progressif': 3530, 'envisager': 1631, 'décaler': 1383, 'heure': 2049, 'partir': 3271, 'dêtre': 1544, 'totalement': 4588, 'supprimer': 4415, 'épidémiologiste': 4959, 'pousser': 3457, 'laération': 2471, 'réduire': 3985, 'contamination': 849, 'circulation': 643, 'rester': 3883, 'niveau': 3094, 'élevé': 4937, 'augmenter': 278, 'maximum': 2866, 'lieu': 2579, 'priver': 3492, 'école': 4910, 'capteur': 526, 'co': 679, 'permettre': 3328, 'penser': 3316, 'geste': 1940, 'trop': 4658, 'alain': 89, 'fischer': 1801, 'écarte': 4898, 'élargissement': 4932, 'assure': 243, 'quil': 3695, 'ny': 3135, 'conseil': 815, 'dorientation': 1316, 'stratégie': 4376, 'écarter': 4899, 'lidée': 2576, 'créneau': 963, 'vide': 4780, 'qr': 3673, 'code': 683, 'certifier': 571, 'pass': 3279, 'personne': 3333, 'vacciner': 4725, 'voir': 4831, 'attribuer': 269, 'linstant': 2610, 'justificatif': 2331, 'pratique': 3462, 'pouvoir': 3459, 'éventuellement': 4988, 'accueillir': 19, 'etat': 1657, 'durgence': 1364, 'lassemblée': 2437, 'vote': 4847, 'texte': 4555, 'couac': 905, 'majorité': 2788, 'finalement': 1793, 'adopter': 55, 'nuit': 3132, 'projet': 3536, 'loi': 2659, 'létat': 2754, 'modifier': 2952, 'controversé': 880, 'lexécutif': 2547, 'larticle': 2435, 'fronde': 1884, 'modem': 2948, 'sy': 4444, 'opposer': 3183, 'sénat': 4475, 'sen': 4185, 'séance': 4456, 'prochain': 3502, 'tiers': 4573, 'commune': 730, 'daugmenter': 1084, 'taxe': 4513, 'foncier': 1825, 'enquête': 1600, 'lassociation': 2439, 'maire': 2781, 'rendre': 3835, 'année': 161, 'moyenne': 2993, 'faire': 1738, 'face': 1726, 'perte': 3337, 'recette': 3756, 'provoquer': 3573, 'crise': 941, 'maintenir': 2779, 'investissement': 2244, 'aide': 80, 'restaurateur': 3880, 'reprendre': 3857, 'secteur': 4175, 'larrêt': 2434, 'dernier': 1146, 'ministre': 2928, 'leconomie': 2479, 'bruno': 460, 'lhôtellerierestauration': 2565, 'évoquer': 4993, 'calendrier': 502, 'mesure': 2892, 'lactivité': 2362, 'commission': 727, 'vouloir': 4849, 'touriste': 4596, 'étranger': 4980, 'lunion': 2706, 'travaille': 4637, 'lété': 2759, 'bruxelle': 462, 'venir': 4758, 'recommandation': 3760, 'condition': 785, 'nécessiter': 3138, 'laccord': 2356, 'état': 4972, 'membre': 2878, 'seul': 4210, 'catégorie': 552, 'concerner': 769, 'point': 3413, 'consultation': 840, 'gratuit': 1972, 'psy': 3629, 'bientôt': 385, 'disponible': 1262, 'an': 136, 'quinzaine': 3698, 'enfant': 1591, 'bénéficier': 486, 'psychologue': 3635, 'docteur': 1287, 'spécialiste': 4343, 'mental': 2883, 'gille': 1947, 'donne': 1308, 'signe': 4225, 'avertir': 302, 'parent': 3247, 'malêtre': 2797, 'fragile': 1859, 'certificat': 570, 'véran': 4860, 'défendre': 1425, 'choix': 624, 'pragmatisme': 3460, 'souffrir': 4311, 'chronique': 631, 'ordonnance': 3196, 'médical': 3025, 'nest': 3073, 'nécessaire': 3136, 'inviter': 2248, 'olivier': 3173, 'fin': 1791, 'masque': 2844, 'lextérieur': 2546, 'espérer': 1642, 'entamer': 1614, 'risque': 3916, 'extérieur': 1719, 'question': 3691, 'port': 3431, 'revenir': 3905, 'régulièrement': 4003, 'table': 4497, 'embauche': 1569, 'contractuel': 864, 'justice': 2330, 'sens': 4188, 'divorce': 1282, 'civil': 650, 'quotidien': 3705, 'actuellement': 38, 'dossier': 1322, 'souffrance': 4310, 'garde': 1925, 'eric': 1634, 'annoncer': 156, 'occuper': 3160, 'poste': 3445, 'assistant': 234, 'renfort': 3838, 'pression': 3474, 'hospitalier': 2071, 'fort': 1848, 'lycéen': 2720, 'collégien': 704, 'retrouver': 3902, 'chemin': 606, 'classe': 656, 'limite': 2588, 'kilomètre': 2339, 'autour': 294, 'rapport': 3727, 'publier': 3640, 'défenseure': 1427, 'droit': 1346, 'juge': 2313, 'résident': 4031, 'dehpad': 1107, 'grandement': 1968, 'vacciné': 4727, 'sontils': 4298, 'vraiment': 4854, 'éligible': 4938, 'centre': 565, 'yveline': 4886, 'candidat': 516, 'linjection': 2605, 'présenter': 3611, 'lune': 2704, 'comorbidité': 734, 'censé': 562, 'tolérance': 4583, 'appliquer': 192, 'changer': 588, 'vie': 4784, 'premier': 3465, 'vacancier': 4715, 'arriver': 215, 'camping': 512, 'déconfiné': 1402, 'révélation': 4048, 'commencer': 716, 'tourisme': 4595, 'front': 1885, 'mer': 2885, 'habituer': 2026, 'répondre': 4018, 'présent': 3608, 'théâtre': 4571, 'rassurer': 3738, 'inquiet': 2186, 'dramatique': 1339, 'réjouir': 4006, 'lincertitude': 2599, 'gagne': 1914, 'terrain': 4542, 'redémarrage': 3789, 'activité': 36, 'gabriel': 1912, 'attal': 255, 'linvité': 2624, 'rendezvou': 3834, 'phare': 3351, 'deurope': 1164, 'partenariat': 3259, 'écho': 4905, 'cnew': 676, 'dinterview': 1236, 'concession': 774, 'linformation': 2603, 'décrypter': 1416, 'discours': 1251, 'comprendre': 752, 'acte': 30, 'bilan': 390, 'autorité': 292, 'cause': 554, 'amien': 126, 'homme': 2061, 'juger': 2314, 'vol': 4836, 'société': 4271, 'sécurité': 4462, 'gérant': 2017, 'chirurgical': 617, 'quils': 3696, 'charger': 596, 'surveiller': 4429, 'fait': 1740, 'sétaient': 4488, 'dérouler': 1504, 'août': 182, 'haut': 2034, 'déposer': 1491, 'plainte': 3389, 'septembre': 4195, 'préciser': 3584, 'souhaiter': 4313, 'tension': 4534, 'stades': 4356, 'concert': 770, 'seratil': 4197, 'obligatoire': 3151, 'déclaration': 1393, 'auprès': 282, 'mise': 2936, 'vatil': 4748, 'fonctionner': 1831, 'décrypte': 1415, 'soirée': 4278, 'discothèque': 1250, 'liverpool': 2639, 'attendre': 260, 'participant': 3261, 'négatif': 3141, 'rentrer': 3845, 'club': 671, 'varier': 4745, 'indien': 2152, 'détecter': 1520, 'lotetgaronn': 2685, 'lagence': 2373, 'nouvelleaquitaine': 3125, 'métropolitain': 3042, 'suspect': 4436, 'bordeaux': 422, 'séquençage': 4480, 'vendre': 4755, 'lhabillement': 2550, 'déplore': 1487, 'tardif': 4508, 'commerce': 718, 'nonessentiel': 3104, 'patienter': 3289, 'jusquau': 2326, 'délai': 1444, 'supplémentaire': 4411, 'éric': 4967, 'tpepme': 4607, 'contraindre': 867, 'petit': 3341, 'magasin': 2774, 'scientifique': 4160, 'alerter': 96, 'rapide': 3723, 'semaine': 4181, 'reconfinement': 3767, 'vague': 4728, 'livrer': 2642, 'perspective': 3335, 'prudence': 3575, 'craindre': 934, 'lépidémie': 2750, 'bar': 336, 'restaurant': 3879, 'besoin': 379, 'daide': 1015, 'rouvrir': 3949, 'tandis': 4503, 'café': 497, 'établissement': 4969, 'annonce': 155, 'soulagement': 4315, 'jauge': 2276, 'limité': 2590, 'daffaire': 1010, 'immobilier': 2103, 'ruée': 3966, 'louest': 2687, 'francilien': 1865, 'généralisation': 2009, 'télétravail': 4679, 'demande': 1113, 'fortement': 1849, 'endroit': 1590, 'local': 2647, 'peiner': 3309, 'bien': 384, 'concurrence': 781, 'constater': 832, 'prendre': 3466, 'sérieux': 4483, 'municipalité': 3003, 'monde': 2963, 'mépris': 3036, 'plan': 3391, 'prévoir': 3622, 'culture': 971, 'donner': 1309, 'dhorizon': 1182, 'aujourdhui': 280, 'aurélien': 283, 'dubois': 1350, 'chambre': 582, 'syndical': 4450, 'musical': 3007, 'festif': 1768, 'nocturne': 3097, 'hausse': 2033, 'enregistrent': 1606, 'enregistre': 1605, 'également': 4928, 'porter': 3434, 'rien': 3914, 'nindique': 3091, 'moment': 2961, 'propager': 3551, 'bouchesdurhône': 428, 'falloir': 1741, 'présence': 3607, 'temporise': 4524, 'yannick': 4878, 'virologue': 4803, 'linserm': 2608, 'limitation': 2587, 'kilométrique': 2340, 'réservation': 4027, 'pont': 3425, 'plein': 3401, 'boom': 419, 'redonner': 3784, 'espoir': 1641, 'sauver': 4146, 'location': 2650, 'meublé': 2896, 'déjà': 1442, 'beaucoup': 361, 'sésame': 4486, 'liberté': 2568, 'cédric': 983, 'création': 957, 'foule': 1855, 'affirme': 63, 'secrétaire': 4174, 'detat': 1160, 'numérique': 3133, 'matin': 2856, 'gagner': 1915, 'dargent': 1059, 'restauration': 3881, 'intérieur': 2237, 'phase': 3356, 'transitoire': 4626, 'joie': 2300, 'olive': 3172, 'directeur': 1243, 'général': 2007, 'groupe': 1991, 'grill': 1980, 'chose': 626, 'manière': 2805, 'maîtriser': 2868, 'horizon': 2069, 'tôt': 4688, 'assouplissement': 240, 'risquer': 3918, 'hongrie': 2066, 'préférer': 3596, 'pays': 3303, 'décès': 1418, 'dhabitant': 1174, 'pourtant': 3455, 'produit': 3514, 'russe': 3964, 'chinois': 616, 'homologuer': 2064, 'twitter': 4671, 'lélargissement': 2742, 'collège': 702, 'rentrée': 3846, 'demijauge': 1120, 'denseignement': 1131, 'distance': 1271, 'présentiel': 3612, 'département': 1473, 'circule': 644, 'parisien': 3250, 'élargir': 4931, 'obèse': 3158, 'diabète': 1187, 'cardiaque': 531, 'cancer': 515, 'indiquer': 2155, 'lautorisation': 2459, 'lire': 2627, 'laboratoir': 2351, 'allemand': 105, 'américain': 135, 'dautorisation': 1086, 'anticovid': 173, 'baser': 346, 'donnée': 1310, 'étude': 4981, 'clinique': 668, 'mars': 2831, 'montrer': 2977, 'efficacité': 1559, 'prévenir': 3619, 'tranche': 4615, 'dâge': 1370, 'concerttest': 773, 'asseoir': 230, 'marseille': 2833, 'linstitut': 2613, 'recherche': 3758, 'inserm': 2193, 'mener': 2881, 'lentrée': 2515, 'mesurer': 2893, 'contagion': 847, 'domestique': 1300, 'diminuer': 1211, 'charge': 595, 'femme': 1761, 'davoir': 1098, 'anticiper': 168, 'confinement': 793, 'jimmy': 2295, 'mohamed': 2954, 'gérer': 2019, 'dispositif': 1265, 'limiter': 2589, 'propagation': 3550, 'variant': 4743, 'prolifération': 3538, 'placer': 3384, 'lisolement': 2632, 'parcours': 3245, 'retracer': 3896, 'potentiel': 3448, 'cluster': 672, 'menacer': 2880, 'éviter': 4990, 'flambée': 1807, 'léconomie': 2728, 'repartir': 3848, 'légèrement': 2741, 'trimestre': 4653, 'croissance': 948, 'pib': 3367, 'estimation': 1649, 'linsee': 2607, 'meilleur': 2876, 'attente': 261, 'économiste': 4914, 'loin': 2660, 'rebond': 3750, 'massif': 2847, 'passer': 3283, 'barre': 340, 'reculer': 3783, 'ehpad': 1562, 'surestimer': 4420, 'reconnaître': 3771, 'daprès': 1056, 'précise': 3583, 'sils': 4230, 'train': 4612, 'probablement': 3498, 'hôtel': 2086, 'uniquement': 4696, 'client': 663, 'jeanbaptist': 2280, 'lemoyne': 2492, 'hôtelier': 2087, 'déjeuner': 1441, 'dîner': 1546, 'imposer': 2122, 'manger': 2801, 'octobre': 3161, 'entrée': 1627, 'vigueur': 4787, 'lom': 2666, 'alerte': 95, 'protéger': 3563, 'résurgence': 4039, 'axa': 312, 'enveloppe': 1628, 'deuro': 1163, 'litige': 2637, 'juridique': 2324, 'lassureur': 2442, 'thomas': 4564, 'daxa': 1101, 'contrat': 873, 'transaction': 4617, 'flou': 1814, 'judiciaire': 2312, 'accompagner': 14, 'assuretil': 245, 'joe': 2298, 'biden': 383, 'impose': 2121, 'voyageur': 4852, 'dinde': 1219, 'décider': 1390, 'dimposer': 1217, 'provenance': 3565, 'prise': 3490, 'lind': 2600, 'exponentiel': 1700, 'hôpital': 2085, 'surcharger': 4417, 'manquer': 2808, 'doxygène': 1336, 'pénitentiaire': 3662, 'salondeprovence': 4104, 'ladministration': 2365, 'quune': 3708, 'quarantaine': 3678, 'détenu': 1524, 'fo': 1819, 'estime': 1650, 'côté': 992, 'peur': 3343, 'dautre': 1090, 'protocole': 3562, 'colonie': 705, 'vacance': 4714, 'préparer': 3605, 'lannée': 2406, 'fréquentation': 1896, 'chuter': 633, 'organisateur': 3199, 'regain': 3798, 'nont': 3107, 'date': 1075, 'concret': 779, 'survenir': 4430, 'prochainement': 3503, 'manqu': 2806, 'personnel': 3334, 'euro': 1661, 'remplacement': 3825, 'joueur': 2307, 'forfait': 1843, 'équipe': 4966, 'détaillé': 1518, 'luefa': 2696, 'disposition': 1266, 'sélection': 4467, 'quitter': 3700, 'disputer': 1269, 'match': 2851, 'peine': 3308, 'débloque': 1375, 'victoire': 4778, 'combat': 709, 'lavocat': 2469, 'jeanpierre': 2286, 'mobiliser': 2945, 'nettement': 3075, 'insuffiser': 2204, 'marquer': 2830, 'confronter': 800, 'record': 3774, 'laboratoire': 2352, 'pauvre': 3298, 'pharmaceutique': 3352, 'compléter': 749, 'don': 1306, 'effectuer': 1555, 'massivement': 2848, 'financer': 1795, 'lachat': 2359, 'justifier': 2332, 'saméliorer': 4111, 'grâce': 1993, 'dirigeant': 1247, 'gramme': 1964, 'sengager': 4186, 'distribuer': 1275, 'milliard': 2919, 'royaumeuni': 3953, 'jo': 2296, 'tokyo': 4582, 'spectateur': 4333, 'jeu': 2291, 'olympique': 3174, 'huis': 2076, 'clore': 670, 'lafp': 2371, 'comité': 713, 'lévénement': 2764, 'reporter': 3853, 'capital': 525, 'japonais': 2274, 'réunir': 4044, 'séminaire': 4474, 'avenir': 301, 'discuter': 1255, 'lavenir': 2465, 'linstance': 2609, 'consultatif': 839, 'période': 3668, 'décroître': 1414, 'épidémique': 4960, 'avis': 306, 'jeanfrançois': 2281, 'delfraissy': 1109, 'lill': 2584, 'pèlerin': 3650, 'affréter': 68, 'lourd': 2689, 'tgv': 4557, 'spécialement': 4342, 'loccasion': 2651, 'direction': 1244, 'retrouve': 3901, 'visiteur': 4816, 'impatient': 2117, 'foi': 1823, 'pcr': 3305, 'départ': 1472, 'rome': 3933, 'douverture': 1332, 'porteur': 3435, 'despoir': 1150, 'soir': 4277, 'leuro': 2529, 'football': 1838, 'turqui': 4668, 'litalie': 2636, 'rue': 3956, 'italien': 2264, 'lenthousiasme': 2510, 'habitant': 2022, 'compétition': 762, 'tourner': 4601, 'page': 3224, 'douloureux': 1329, 'film': 1788, 'sannonce': 4120, 'salle': 4101, 'distributeur': 1276, 'bataille': 350, 'carrière': 538, 'stopper': 4373, 'embouteillage': 1572, 'nauraier': 3063, 'sortir': 4305, 'répandre': 4013, 'impact': 2114, 'économique': 4913, 'report': 3851, 'sponsor': 4336, 'publicitaire': 3639, 'acteur': 32, 'dépense': 1478, 'consommation': 828, 'dériver': 1500, 'invalide': 2240, 'police': 3416, 'fête': 1910, 'rassembler': 3735, 'intervenir': 2227, 'disperser': 1260, 'lesplanade': 2522, 'pari': 3249, 'participer': 3264, 'presque': 3470, 'officiel': 3167, 'grave': 1975, 'temps': 4525, 'franchir': 1864, 'progression': 3531, 'delta': 1111, 'dinquiéter': 1228, 'identifier': 2089, 'strasbourg': 4375, 'trafic': 4611, 'aérien': 314, 'acter': 31, 'dore': 1314, 'choisir': 623, 'traverser': 4642, 'lavion': 2468, 'quemmanuel': 3689, 'sommet': 4292, 'démarrer': 1460, 'émettre': 4948, 'doute': 1330, 'promesse': 3543, 'étatsuni': 4973, 'promettre': 3545, 'plaider': 3386, 'brevet': 452, 'seine': 4177, 'saintdeni': 4080, 'village': 4789, 'vaccinal': 4719, 'commercial': 720, 'but': 476, 'opération': 3190, 'inégalité': 2254, 'laccè': 2357, 'installer': 2197, 'sein': 4176, 'galerie': 1917, 'lobjectif': 2644, 'principal': 3482, 'dinjecter': 1225, 'daction': 1007, 'immédiat': 2112, 'détection': 1521, 'apparaître': 184, 'fois': 1824, 'ind': 2147, 'ar': 205, 'quun': 3707, 'repasser': 3850, 'seuil': 4209, 'limmunité': 2593, 'collectif': 699, 'toutefois': 4605, 'travers': 4640, 'finir': 1799, 'géant': 2006, 'consécutif': 842, 'adolescent': 54, 'er': 1633, 'euxaussi': 1666, 'accès': 22, 'impératif': 2128, 'arithmétique': 209, 'professeur': 3516, 'course': 917, 'montre': 2976, 'art': 222, 'rhin': 3908, 'aller': 106, 'rencontre': 3832, 'proposer': 3555, 'profiter': 3523, 'alléger': 115, 'chaud': 600, 'quitte': 3699, 'respecter': 3869, 'horaire': 2068, 'dominique': 1304, 'guludec': 2002, 'explique': 1692, 'ralentissement': 3718, 'observable': 3153, 'communication': 731, 'stagnation': 4359, 'traduire': 4610, 'fermeture': 1764, 'culturel': 972, 'disproportionner': 1267, 'charles': 597, 'berling': 375, 'desserrer': 1153, 'vis': 4806, 'jusquà': 2329, 'comédien': 764, 'ado': 53, 'colonne': 706, 'jdd': 2278, 'monsieur': 2967, 'estimer': 1651, 'mineur': 2925, 'rapprocher': 3731, 'appuyer': 203, 'journal': 2309, 'interpeller': 2221, 'fêtard': 1909, 'préfecture': 3594, 'sport': 4337, 'réouvrir': 4012, 'satisfaire': 4136, 'sportif': 4338, 'darrêt': 1066, 'précaire': 3578, 'nécessité': 3139, 'rembourser': 3822, 'prêt': 3623, 'garanti': 1921, 'constituer': 833, 'réel': 3987, 'source': 4323, 'dinquiétud': 1229, 'dimanche': 1210, 'refuser': 3797, 'prioritaire': 3488, 'règle': 3968, 'weekend': 4872, 'havre': 2044, 'prolonger': 3542, 'new': 3080, 'delhi': 1110, 'violent': 4800, 'second': 4169, 'aider': 81, 'déborder': 1377, 'lafflu': 2369, 'enregistrer': 1607, 'entreprise': 1624, 'dici': 1191, 'cpm': 933, 'confédération': 801, 'moyen': 2992, 'affirmer': 64, 'malheureusement': 2795, 'disparaître': 1258, 'parc': 3244, 'dattraction': 1080, 'porte': 3432, 'bienveillance': 386, 'lien': 2577, 'frédéric': 1890, 'lenoir': 2503, 'philosophe': 3359, 'écrivain': 4920, 'capacité': 523, 'relever': 3817, 'construire': 838, 'collaboration': 696, 'déployer': 1490, 'scolaire': 4162, 'léducation': 2733, 'miser': 2937, 'lécole': 2727, 'commander': 715, 'interrogation': 2223, 'subsister': 4389, 'leçon': 2549, 'obliger': 3152, 'salarié': 4098, 'tertiaire': 4550, 'trace': 4608, 'constat': 830, 'dolivier': 1297, 'management': 2798, 'rolandgarro': 3931, 'confirme': 795, 'tournoi': 4602, 'tennis': 4532, 'jeanmichel': 2284, 'blanquer': 402, 'assurer': 244, 'court': 918, 'conformément': 799, 'bouton': 441, 'dor': 1312, 'hautrhin': 2041, 'multiplier': 3001, 'lapproche': 2421, 'embaucher': 1570, 'estil': 1648, 'indispensable': 2156, 'rare': 3732, 'réclamer': 3981, 'suppression': 4414, 'lobligation': 2646, 'entame': 1613, 'représenter': 3865, 'lensemble': 2506, 'relance': 3813, 'gestion': 1941, 'purement': 3644, 'social': 4268, 'philippe': 3358, 'martiner': 2837, 'patron': 3293, 'regretter': 3804, 'manifestation': 2803, 'coûte': 930, 'cher': 607, 'destiner': 1158, 'citoyen': 647, 'marteler': 2834, 'laisser': 2380, 'trouver': 4663, 'quau': 3684, 'davantage': 1094, 'projeter': 3537, 'site': 4256, 'spécialisé': 4344, 'taux': 4512, 'quasiment': 3682, 'attestation': 263, 'planifier': 3393, 'épidémiologique': 4957, 'autoriser': 291, 'maintien': 2780, 'elisabeth': 1564, 'borne': 426, 'chômage': 635, 'partiel': 3269, 'décembre': 1384, 'vite': 4820, 'roland': 3930, 'métier': 3039, 'industrie': 2161, 'lhôtellerie': 2564, 'prof': 3515, 'ligne': 2581, 'droite': 1347, 'galère': 1920, 'large': 2428, 'dentre': 1133, 'système': 4453, 'enseignant': 1608, 'redouter': 3787, 'bout': 439, 'programme': 3526, 'vontelle': 4844, 'preneur': 3467, 'astrazeneca': 246, 'volontaire': 4838, 'réaliser': 3973, 'quotidiennement': 3706, 'rythme': 3967, 'soutenir': 4327, 'atteindre': 258, 'fixer': 1803, 'aéroport': 315, 'roissy': 3928, 'transit': 4624, 'illégal': 2099, 'installé': 2198, 'terminal': 4539, 'laéroport': 2473, 'roissycharlesdegaull': 3929, 'aménager': 134, 'dizaine': 1283, 'territoire': 4548, 'jusquelà': 2327, 'encadrer': 1582, 'zone': 4890, 'dattente': 1079, 'entrer': 1625, 'lapparition': 2416, 'danemark': 1030, 'renoncer': 3840, 'johnson': 2299, 'unidose': 4692, 'anticoronaviru': 171, 'effet': 1556, 'secondaire': 4170, 'thrombose': 4566, 'abandonner': 2, 'suédobritannique': 4442, 'avril': 310, 'bac': 316, 'tenir': 4531, 'quon': 3703, 'contrôle': 881, 'continu': 857, 'intégral': 2234, 'lédition': 2731, 'baccalauréat': 318, 'cadr': 495, 'demeurer': 1117, 'dictionnaire': 1193, 'mot': 2986, 'larouss': 2432, 'lier': 2578, 'édition': 4924, 'entraîner': 1622, 'modification': 2951, 'berger': 374, 'ultrariche': 4691, 'jeunesse': 2294, 'cfdt': 577, 'exceptionnel': 1675, 'instaurer': 2200, 'lci': 2476, 'appel': 188, 'lallemagn': 2383, 'allemagne': 104, 'dassouplir': 1071, 'approuver': 200, 'parlement': 3252, 'favorable': 1756, 'temporaire': 4522, 'recommande': 3761, 'preuve': 3476, 'normal': 3110, 'prix': 3496, 'monaco': 2962, 'contrast': 872, 'événement': 4995, 'alpesmaritime': 116, 'tomber': 4585, 'espace': 1638, 'littoral': 2638, 'jardin': 2275, 'motiver': 2988, 'faible': 1734, 'dincidence': 1218, 'frontalier': 1886, 'allée': 114, 'nez': 3084, 'vent': 4759, 'famille': 1744, 'avoir': 309, 'amont': 127, 'autorisation': 289, 'atil': 252, 'rappeler': 3726, 'devenir': 1167, 'utiliser': 4713, 'davril': 1099, 'complet': 741, 'immuniser': 2107, 'pourraton': 3451, 'signer': 4226, 'saisir': 4093, 'has': 2032, 'sérum': 4485, 'réserver': 4029, 'cure': 973, 'thermal': 4561, 'fermer': 1763, 'alarmer': 92, 'reprise': 3858, 'conséquence': 843, 'ailleurs': 84, 'lent': 2507, 'recenser': 3755, 'injecter': 2181, 'cap': 521, 'lentement': 2508, 'dénoncer': 1470, 'sinquiète': 4242, 'perdurer': 3323, 'nom': 3099, 'édicter': 4922, 'lorigine': 2682, 'salon': 4103, 'sorganisent': 4301, 'dégager': 1437, 'préparatif': 3602, 'relancer': 3814, 'machine': 2770, 'souvre': 4331, 'modalité': 2946, 'remonter': 3824, 'annuel': 157, 'pôle': 3671, 'emploi': 1576, 'dévoile': 1542, 'connaître': 808, 'creux': 937, 'actif': 33, 'laid': 2377, 'domicile': 1301, 'inciter': 2141, 'loptimisme': 2675, 'débuter': 1381, 'fruit': 1888, 'indicateur': 2150, 'dinjection': 1226, 'problème': 3499, 'officiellement': 3168, 'vacant': 4716, 'libre': 2571, 'non': 3102, 'jérôme': 2334, 'vrai': 4853, 'chance': 585, 'marge': 2818, 'précarité': 3579, 'exposer': 1702, 'virus': 4805, 'daccè': 1001, 'convaincre': 883, 'voter': 4848, 'rejeter': 3810, 'séparation': 4478, 'terrass': 4543, 'contenir': 853, 'exempter': 1680, 'dévoiler': 1543, 'bercy': 373, 'médecin': 3018, 'lastrazeneca': 2443, 'recourir': 3775, 'exiger': 1685, 'directrice': 1246, 'fédération': 1905, 'amélie': 131, 'pauvreté': 3299, 'démultiplier': 1466, 'lutte': 2716, 'lexclusion': 2536, 'laugmentation': 2450, 'auteur': 286, 'probable': 3497, 'former': 1846, 'approche': 197, 'coulisse': 907, 'serveur': 4205, 'cuisinier': 968, 'créer': 960, 'remettre': 3823, 'bain': 322, 'assister': 235, 'formation': 1844, 'eurodéputé': 1663, 'retourner': 3895, 'force': 1840, 'élu': 4943, 'député': 1499, 'février': 1908, 'succès': 4391, 'mitiger': 2940, 'versaille': 4768, 'file': 1784, 'janssen': 2271, 'utilise': 4712, 'technologie': 4519, 'tendre': 4530, 'comptabilise': 755, 'solution': 4289, 'larrivée': 2433, 'impérativement': 2129, 'exception': 1674, 'inquiétant': 2187, 'progress': 3528, 'courant': 913, 'sensiblement': 4189, 'baissé': 325, 'exemple': 1679, 'lhépatite': 2562, 'chute': 632, 'inquiétude': 2189, 'ambulancier': 121, 'aidessoignant': 83, 'titulaire': 4581, 'rang': 3721, 'datteindre': 1077, 'allergie': 107, 'saisonnier': 4095, 'pic': 3368, 'lest': 2526, 'crainte': 935, 'réaction': 3969, 'allergique': 108, 'pédagogie': 3654, 'lengorgement': 2501, 'cabinet': 490, 'zoo': 4891, 'vincenne': 4793, 'animal': 150, 'billet': 391, 'accéder': 23, 'bébé': 481, 'naître': 3068, 'découvrir': 1407, 'sécu': 4461, 'mobilise': 2944, 'ignorance': 2092, 'remédier': 3829, 'contacter': 845, 'vulnérable': 4856, 'doctolib': 1289, 'stanisler': 4361, 'nioxchateau': 3092, 'fondateur': 1833, 'plateform': 3398, 'quid': 3694, 'lascension': 2436, 'garder': 1926, 'contribution': 879, 'rémunération': 4008, 'rémi': 4007, 'salomon': 4102, 'relâchement': 3819, 'recirculation': 3759, 'dépendre': 1477, 'lampleur': 2390, 'expliquer': 1693, 'insister': 2195, 'final': 1792, 'ligue': 2582, 'champion': 583, 'déplacer': 1485, 'contexte': 855, 'reflue': 3792, 'restant': 3878, 'faveur': 1755, 'option': 3189, 'laisse': 2379, 'présager': 3606, 'affluence': 65, 'satisfaisant': 4137, 'lutilisation': 2714, 'propriétaire': 3558, 'château': 634, 'vauxlevicomt': 4749, 'historique': 2058, 'liste': 2634, 'région': 3997, 'matinale': 2857, 'mariage': 2819, 'dédier': 1420, 'arguer': 208, 'référer': 3995, 'biodiversité': 392, 'bérangère': 488, 'abba': 3, 'détat': 1519, 'tweet': 4669, 'angleterre': 146, 'lalcool': 2381, 'bureau': 472, 'statistique': 4365, 'augmentation': 276, 'dalcool': 1020, 'coïncide': 928, 'pharmaci': 3353, 'bonnefond': 418, 'pharmacien': 3355, 'dofficine': 1292, 'lutilité': 2715, 'tendance': 4529, 'oublier': 3209, 'piste': 3378, 'danse': 1044, 'colère': 708, 'boîte': 444, 'nen': 3071, 'dattendre': 1078, 'protection': 3560, 'accélérer': 26, 'production': 3512, 'distribution': 1277, 'fatigue': 1748, 'bouleversement': 434, 'lon': 2667, 'consulter': 841, 'télétravailler': 4680, 'sereinement': 4199, 'long': 2669, 'traitement': 4613, 'encourager': 1587, 'développement': 1537, 'symptôme': 4449, 'handicapant': 2029, 'vue': 4855, 'dautoriser': 1087, 'efficace': 1557, 'admission': 52, 'décroitre': 1413, 'naurait': 3064, 'deffet': 1104, 'terme': 4538, 'facteur': 1731, 'lapprovisionnement': 2422, 'etatsunis': 1658, 'étendu': 4975, 'observer': 3155, 'arrivée': 216, 'brésil': 463, 'qatar': 3672, 'accélération': 25, 'lhiver': 2554, 'circonstance': 642, 'extraordinaire': 1714, 'lafriqu': 2372, 'sud': 4393, 'estc': 1646, 'réellement': 3988, 'utile': 4709, 'masse': 2846, 'présente': 3610, 'enjeu': 1598, 'débat': 1372, 'réer': 3989, 'linstitution': 2614, 'millier': 2921, 'réponse': 4019, 'grégoire': 1995, 'dévastateur': 1535, 'association': 237, 'solidaire': 4283, 'responsable': 3872, 'bouge': 432, 'danger': 1031, 'homologation': 2063, 'sinopharm': 4240, 'lorganisation': 2679, 'daccorder': 998, 'dexpert': 1171, 'vaccinau': 4723, 'recommander': 3762, 'feu': 1770, 'vert': 4772, 'fleuriste': 1810, 'vendeur': 4754, 'sauvette': 4147, 'muguet': 2996, 'débute': 1380, 'sapprêtent': 4129, 'partout': 3273, 'soumettre': 4320, 'strict': 4380, 'dresser': 1344, 'échapper': 4902, 'nantais': 3050, 'parquet': 3255, 'lenquête': 2504, 'déterminer': 1525, 'médecine': 3019, 'transférer': 4623, 'nante': 3051, 'jean': 2279, 'caste': 546, 'conférence': 802, 'parole': 3254, 'nétait': 3147, 'restrictive': 3888, 'masquer': 2845, 'impressionnant': 2124, 'explosion': 1699, 'lopposition': 2674, 'cadre': 496, 'diplômé': 1240, 'lapec': 2413, 'sinsérer': 4248, 'marché': 2814, 'lemploi': 2494, 'privé': 3495, 'lan': 2393, 'davantcrise': 1095, 'apec': 183, 'particulièrement': 3267, 'doiton': 1296, 'contracter': 863, 'interroger': 2224, 'lintérêt': 2621, 'lexpliqu': 2540, 'ancien': 139, 'michel': 2903, 'drucker': 1348, 'télé': 4675, 'livre': 2641, 'demain': 1112, 'accepter': 12, 'dastrazeneca': 1074, 'décrier': 1409, 'supposer': 4413, 'lappui': 2423, 'pouls': 3450, 'prescription': 3468, 'déviter': 1541, 'dentrer': 1135, 'précision': 3585, 'dégradation': 1439, 'excellent': 1673, 'réduit': 3986, 'transmission': 4630, 'transmettre': 4627, 'largement': 2429, 'diffusion': 1203, 'anglais': 145, 'ampleur': 130, 'conclure': 776, 'savoir': 4149, 'prime': 3479, 'verser': 4770, 'salaire': 4097, 'inférieur': 2176, 'net': 3074, 'montant': 2970, 'profession': 3518, 'âge': 4894, 'travailleur': 4639, 'priorité': 3489, 'dassaut': 1070, 'défiance': 1429, 'japon': 2273, 'hebdomadaire': 2046, 'lissu': 2633, 'défense': 1426, 'catastrophique': 549, 'communauté': 729, 'vivant': 4824, 'touche': 4590, 'bangalore': 331, 'reconfiner': 3769, 'tenter': 4536, 'frappe': 1874, 'durement': 1362, 'restreindre': 3886, 'être': 4996, 'médicament': 3026, 'ema': 1567, 'validation': 4735, 'cofondateur': 685, 'déchanger': 1388, 'scénario': 4166, 'allègement': 113, 'mimai': 2923, 'prononcer': 3548, 'surpoids': 4424, 'décalage': 1382, 'apprendre': 195, 'information': 2174, 'lélyser': 2745, 'détail': 1516, 'ici': 2088, 'rapporter': 3729, 'interview': 2229, 'accorder': 16, 'repousser': 3855, 'rottner': 3935, 'sage': 4072, 'raisonnable': 3716, 'républicain': 4021, 'urgentiste': 4704, 'prépare': 3604, 'vivre': 4827, 'létranger': 2757, 'pierre': 3370, 'assise': 233, 'contrôler': 882, 'verbalisation': 4763, 'lintérieur': 2620, 'verbaliser': 4764, 'chili': 614, 'afrique': 70, 'argentine': 207, 'guyan': 2003, 'léger': 2737, 'admettre': 47, 'remplacer': 3826, 'éthylotest': 4977, 'chercheur': 610, 'travailler': 4638, 'capable': 522, 'lair': 2378, 'simplement': 4235, 'souffler': 4309, 'rapidement': 3724, 'fiabilité': 1773, 'classique': 659, 'confirmer': 796, 'recense': 3754, 'généraliste': 2011, 'monter': 2974, 'puissance': 3643, 'tour': 4594, 'davance': 1092, 'adapté': 41, 'mouvement': 2991, 'mobilisation': 2943, 'perturber': 3338, 'épreuve': 4962, 'bricolage': 455, 'antonin': 179, 'tempslà': 4526, 'particulier': 3266, 'bus': 474, 'exploser': 1697, 'interdiction': 2211, 'audelà': 272, 'circuler': 645, 'destination': 1157, 'côte': 990, 'regrette': 3803, 'sentiment': 4190, 'déploretil': 1489, 'envie': 1629, 'lordre': 2677, 'valeur': 4734, 'dépendant': 1476, 'ordre': 3198, 'marche': 2813, 'simple': 4234, 'plaisir': 3390, 'voyage': 4850, 'rayon': 3747, 'lattestation': 2446, 'gare': 1927, 'lyon': 2721, 'hâte': 2081, 'définir': 1433, 'carte': 540, 'exhorte': 1683, 'audessus': 273, 'linfection': 2602, 'émerger': 4947, 'associer': 238, 'mortalité': 2982, 'gravité': 1977, 'salivaire': 4100, 'primaire': 3477, 'maternel': 2852, 'doucement': 1326, 'lina': 2598, 'évoque': 4992, 'charnièr': 599, 'majoritaire': 2786, 'serein': 4198, 'commande': 714, 'constate': 831, 'mariepaul': 2821, 'kieny': 2338, 'conclusion': 777, 'fournir': 1857, 'pfizerbiontech': 3349, 'alimentaire': 102, 'copsolidarité': 891, 'saccélère': 4061, 'saintquentin': 4089, 'covidlist': 926, 'efficacement': 1558, 'cassetête': 545, 'drastiquement': 1342, 'méthode': 3038, 'exister': 1687, 'renouveler': 3841, 'sattender': 4140, 'dépasser': 1475, 'séloigne': 4470, 'hautegaronne': 2036, 'démunir': 1467, 'départemental': 1474, 'propose': 3554, 'échanger': 4901, 'nourriture': 3123, 'bénéficiaire': 485, 'nétaient': 3146, 'recours': 3776, 'type': 4672, 'tirer': 4578, 'sylvain': 4445, 'kahn': 2336, 'revenu': 3906, 'causer': 555, 'leurop': 2531, 'intégrer': 2235, 'classer': 658, 'préoccuper': 3601, 'contagieux': 846, 'résistant': 4036, 'darmor': 1063, 'clandestin': 652, 'den': 1124, 'commissaire': 725, 'breton': 451, 'navait': 3066, 'revanche': 3903, 'biontechpfizer': 394, 'optimiste': 3188, 'suite': 4404, 'station': 4364, 'thermes': 4562, 'important': 2120, 'vosge': 4846, 'commerçant': 723, 'énormément': 4952, 'dazur': 1102, 'micro': 2906, 'robert': 3923, 'minuscule': 2933, 'masculin': 2842, 'lusage': 2712, 'majoritairement': 2787, 'lavi': 2467, 'lacadémie': 2354, 'démontre': 1465, 'zéro': 4893, 'lisland': 2630, 'laustralie': 2454, 'drastique': 1341, 'individuel': 2157, 'augurer': 279, 'ralentir': 3717, 'laccélération': 2358, 'barrière': 342, 'affecter': 60, 'infection': 2169, 'fictif': 1777, 'positivité': 3442, 'durablement': 1359, 'sexprime': 4214, 'élément': 4945, 'degré': 1106, 'résistance': 4035, 'tard': 4506, 'clair': 651, 'délégué': 1454, 'pm': 3410, 'griset': 1985, 'exploitant': 1695, 'spécifique': 4348, 'létude': 2758, 'épidémiologist': 4958, 'lépidémiologist': 2751, 'catherine': 550, 'hill': 2055, 'amorcer': 128, 'confiner': 794, 'corps': 896, 'dau': 1081, 'mal': 2789, 'tête': 4687, 'respiratoire': 3870, 'parvenir': 3275, 'davant': 1093, 'florence': 1812, 'matignon': 2855, 'quà': 3709, 'délibération': 1448, 'saccélérer': 4062, 'intéressant': 2236, 'douvrir': 1334, 'tablée': 4499, 'restaurer': 3882, 'sûr': 4494, 'pourrontils': 3452, 'lueur': 2697, 'heurter': 2052, 'sinspirer': 4246, 'réclame': 3980, 'livraison': 2640, 'belge': 366, 'audience': 274, 'anticorps': 172, 'sang': 4117, 'précoce': 3587, 'combattre': 711, 'conscience': 814, 'tribu': 4648, 'photographe': 3362, 'engager': 1596, 'exposition': 1703, 'philharmoni': 3357, 'catastrophe': 548, 'francis': 1866, 'cabrel': 491, 'regarde': 3800, 'image': 2100, 'discret': 1252, 'tournée': 4603, 'dactualité': 1009, 'relatif': 3815, 'émouvoir': 4951, 'valide': 4736, 'dabord': 994, 'rassemblement': 3734, 'arnaud': 213, 'fontanet': 1836, 'lévolution': 2762, 'lavancer': 2463, 'lrem': 2695, 'voix': 4835, 'lâcher': 2723, 'protester': 3561, 'adapter': 40, 'indique': 2154, 'possibilité': 3443, 'lexception': 2535, 'douai': 1323, 'pressentir': 3473, 'transformer': 4621, 'piquer': 3373, 'trentaine': 4645, 'journée': 2311, 'cacher': 492, 'impatience': 2116, 'coupe': 910, 'foot': 1837, 'stade': 4355, 'dérogation': 1501, 'hautsdefrance': 2042, 'nationalité': 3058, 'nord': 3108, 'séjour': 4464, 'lar': 2425, 'descendre': 1148, 'œuvre': 4999, 'régime': 3996, 'démarre': 1459, 'âgé': 4895, 'lextension': 2544, 'enlever': 1599, 'quen': 3690, 'amouyel': 129, 'accélèr': 24, 'pomme': 3423, 'francofolie': 1870, 'programmation': 3525, 'festival': 1769, 'rochell': 3926, 'dépit': 1483, 'établir': 4968, 'artiste': 227, 'succéder': 4392, 'scène': 4165, 'costa': 902, 'perer': 3324, 'avocat': 308, 'bretagne': 450, 'darriver': 1064, 'redoubler': 3785, 'covax': 924, 'nationalisme': 3057, 'lheure': 2551, 'pénurie': 3663, 'grèce': 1994, 'saison': 4094, 'touristique': 4597, 'souher': 4314, 'financièrement': 1797, 'ajouter': 86, 'sactiver': 4068, 'rappel': 3725, 'plaide': 3385, 'plupart': 3409, 'portugal': 3436, 'affiche': 61, 'vaccinent': 4724, 'préconiser': 3590, 'contaminée': 852, 'écouler': 4916, 'suscite': 4434, 'méfiance': 3028, 'dutiliser': 1368, 'reflux': 3794, 'mas': 2841, 'habitude': 2023, 'clément': 674, 'beaun': 363, 'détaille': 1517, 'dutilisation': 1367, 'novembre': 3129, 'percevoir': 3319, 'complémentaire': 748, 'concerne': 768, 'chaussure': 602, 'article': 223, 'décret': 1408, 'paraître': 3243, 'sanofi': 4122, 'grossiste': 1988, 'refaire': 3791, 'stock': 4369, 'chambord': 579, 'beau': 360, 'propre': 3557, 'monument': 2978, 'ultime': 4690, 'répétition': 4024, 'fameux': 1742, 'spectacle': 4332, 'équestre': 4965, 'bogillot': 411, 'sonia': 4295, 'mabrouk': 2768, 'étoilé': 4978, 'fêter': 1911, 'defficacité': 1105, 'candidatvaccin': 518, 'annuler': 160, 'accord': 15, 'voie': 4830, 'international': 2217, 'mosell': 2985, 'jouer': 2305, 'exceptionnellement': 1676, 'richard': 3910, 'avancer': 297, 'célèbre': 984, 'lapplication': 2418, 'stopcovid': 4372, 'tousanticovid': 4604, 'lobjet': 2645, 'favoritisme': 1759, 'suivre': 4405, 'sdf': 4167, 'logement': 2655, 'dhébergement': 1184, 'ouvert': 3215, 'visite': 4815, 'létablissement': 2753, 'pensionnaire': 3317, 'heureux': 2050, 'intime': 2230, 'convivial': 885, 'hospitalisé': 2074, 'forme': 1845, 'celleci': 558, 'attraper': 268, 'révéler': 4049, 'souche': 4306, 'application': 190, 'pnf': 3411, 'soupçon': 4321, 'anticor': 170, 'signalement': 4221, 'financier': 1796, 'propos': 3553, 'maintenance': 2778, 'filiale': 1785, 'dassault': 1069, 'doffre': 1293, 'décliner': 1396, 'daborder': 995, 'sexplique': 4213, 'volonté': 4841, 'extraire': 1713, 'ouverture': 3216, 'danticor': 1048, 'apporte': 193, 'terrible': 4547, 'moundir': 2989, 'raconte': 3711, 'père': 3651, 'fils': 1789, 'lancien': 2398, 'koh': 2345, 'lanta': 2408, 'danne': 1039, 'roumanoff': 3943, 'bande': 330, 'mourir': 2990, 'toucher': 4591, 'limpact': 2594, 'pointer': 3415, 'décrochage': 1411, 'ressembler': 3873, 'juillet': 2316, 'papier': 3235, 'pasteur': 3284, 'projection': 3535, 'relâcher': 3820, 'estival': 1653, 'bel': 364, 'cri': 939, 'dalarme': 1019, 'bondé': 416, 'renne': 3839, 'organisation': 3200, 'respect': 3868, 'qua': 3675, 'garantir': 1923, 'retrait': 3897, 'ensemble': 1610, 'refluer': 3793, 'nature': 3061, 'mutation': 3012, 'géographique': 2015, 'transmissible': 4629, 'intérêt': 2238, 'préparation': 3603, 'didier': 1195, 'loyer': 2693, 'labsence': 2353, 'appartement': 186, 'normalement': 3111, 'plateforme': 3399, 'régulateur': 4002, 'trancher': 4616, 'éventuel': 4987, 'parallèle': 3240, 'préconise': 3589, 'qu': 3674, 'obligation': 3150, 'théorie': 4569, 'laccident': 2355, 'dire': 1241, 'renseignement': 3842, 'wuhan': 4875, 'compatible': 739, 'infecter': 2166, 'contaminer': 850, 'existe': 1686, 'mémoire': 3033, 'immunitaire': 2108, 'lorganisme': 2680, 'réticence': 4040, 'empêcher': 1581, 'burnout': 473, 'détresse': 1528, 'psychologique': 3634, 'opinionway': 3180, 'robe': 3922, 'marier': 2822, 'actuel': 37, 'comportement': 750, 'futur': 1903, 'matière': 2859, 'alexis': 98, 'postcovid': 3444, 'léquipe': 2752, 'midi': 2907, 'coté': 904, 'procès': 3507, 'oppose': 3182, 'tourne': 4600, 'dialogue': 1190, 'sourd': 4324, 'laudience': 2449, 'saméliore': 4110, 'parallèlement': 3241, 'solde': 4280, 'essentiel': 1645, 'syndrome': 4452, 'faute': 1751, 'vigilance': 4786, 'internet': 2219, 'récupérer': 3982, 'version': 4771, 'norme': 3113, 'échell': 4904, 'lancement': 2395, 'danticorp': 1049, 'partenaire': 3258, 'employeur': 1578, 'parcoursup': 3246, 'déception': 1385, 'paul': 3296, 'sil': 4229, 'exacerber': 1668, 'main': 2777, 'généraliser': 2010, 'facebook': 1727, 'bannir': 333, 'provenir': 3567, 'rebours': 3752, 'précédent': 3591, 'désinformation': 1510, 'suggérer': 4400, 'humain': 2077, 'expert': 1690, 'oscar': 3206, 'organise': 3201, 'cérémonie': 987, 'critère': 944, 'assouplir': 239, 'affaire': 59, 'minuit': 2932, 'transfrontalier': 4622, 'amélioration': 132, 'découverte': 1406, 'quartier': 3680, 'reproduction': 3861, 'guillaume': 2001, 'rozier': 3954, 'mérite': 3037, 'chevalier': 611, 'titre': 4580, 'promouvoir': 3546, 'nic': 3086, 'séclater': 4459, 'pentecôte': 3318, 'printemps': 3485, 'double': 1324, 'clientèle': 664, 'jeanmarc': 2283, 'pdg': 3306, 'sorganise': 4300, 'félicité': 1907, 'retirer': 3893, 'bacalan': 317, 'dangerosité': 1034, 'benoît': 372, 'ellebood': 1566, 'dumontet': 1353, 'bonheur': 417, 'absolu': 8, 'producteur': 3511, 'lhorizon': 2557, 'suffisamment': 4398, 'recul': 3782, 'concentre': 766, 'sinquiètent': 4243, 'rougeole': 3939, 'routine': 3948, 'peuventil': 3347, 'préfet': 3595, 'usine': 4708, 'faure': 1750, 'socialiste': 4269, 'fil': 1783, 'rater': 3739, 'opérer': 3191, 'léglise': 2739, 'fidèle': 1778, 'perdre': 3321, 'dhabitude': 1175, 'messe': 2891, 'lassouplissement': 2440, 'cocktail': 682, 'dangereux': 1033, 'espagnol': 1640, 'lefficacité': 2485, 'supérieur': 4416, 'doctobre': 1288, 'pharmacie': 3354, 'province': 3568, 'célébration': 985, 'losc': 2684, 'supporter': 4412, 'conseiller': 817, 'célébrer': 986, 'championnat': 584, 'hébergement': 2082, 'associatif': 236, 'sansabri': 4123, 'dhospitalisatier': 1183, 'signal': 4220, 'daccélération': 1003, 'administrer': 51, 'officine': 3169, 'mobilhome': 2942, 'croître': 952, 'calmer': 505, 'insiste': 2194, 'rôle': 4053, 'dallonger': 1025, 'lenvie': 2516, 'psychiatre': 3631, 'moral': 2979, 'mélanie': 3032, 'gomez': 1954, 'dr': 1337, 'blanc': 400, 'auditeur': 275, 'idée': 2090, 'bienêtre': 388, 'tabou': 4500, 'préoccupant': 3599, 'influenceur': 2172, 'critiquer': 943, 'réseau': 4026, 'léo': 2748, 'agence': 72, 'poster': 3446, 'échange': 4900, 'vidéo': 4783, 'youtube': 4883, 'lhexagone': 2552, 'centreville': 566, 'achat': 28, 'battre': 353, 'immobilière': 2105, 'dagence': 1014, 'approuve': 199, 'lapprobation': 2420, 'utilisation': 4711, 'lema': 2490, 'déventuels': 1540, 'négociation': 3143, 'performance': 3325, 'dindochine': 1220, 'crécy': 958, 'expérimentation': 1709, 'denvisager': 1140, 'enseignement': 1609, 'différence': 1205, 'fonction': 1826, 'déconfine': 1400, 'sembler': 4183, 'normalité': 3112, 'délaisser': 1445, 'encourageant': 1586, 'or': 3192, 'dussopt': 1366, 'peser': 3340, 'mémorial': 3034, 'saintsulpice': 4090, 'deuil': 1162, 'leglise': 2487, 'sclérose': 4161, 'plaque': 3395, 'déficit': 1430, 'budgétaire': 467, 'soutien': 4328, 'espagn': 1639, 'indochine': 2158, 'distanciation': 1272, 'physique': 3363, 'lont': 2671, 'barcelone': 338, 'lamélioration': 2391, 'afficher': 62, 'noter': 3117, 'mère': 3014, 'timide': 4575, 'venue': 4761, 'estell': 1647, 'fermé': 1766, 'véritable': 4863, 'étudier': 4983, 'traîne': 4644, 'lexpérimentation': 2543, 'jamais': 2270, 'récemment': 3977, 'linégalité': 2625, 'riche': 3911, 'creuser': 936, 'ressource': 3877, 'ensuite': 1612, 'vietnam': 4785, 'sagirer': 4076, 'britannique': 458, 'serrer': 4203, 'etienne': 1660, 'danser': 1045, 'déloger': 1451, 'réussir': 4045, 'pousse': 3456, 'louer': 2686, 'piscine': 3377, 'crouler': 951, 'dentreprise': 1134, 'redémarrer': 3790, 'janvier': 2272, 'sêtre': 4493, 'miavril': 2900, 'copa': 890, 'trouve': 4662, 'franck': 1868, 'riester': 3915, 'climat': 665, 'echoscnew': 1549, 'sarmer': 4133, 'patience': 3287, 'persuader': 3336, 'beal': 359, 'lintégralité': 2619, 'celuici': 561, 'réévaluation': 4050, 'pérou': 3669, 'classement': 657, 'base': 345, 'brigitte': 457, 'écrire': 4919, 'promulguer': 3547, 'laver': 2466, 'seinesaintdeni': 4180, 'mobile': 2941, 'frontière': 1887, 'facile': 1728, 'daller': 1023, 'dorigine': 1317, 'algérien': 100, 'exaspération': 1672, 'voyager': 4851, 'avion': 305, 'astéri': 248, 'technique': 4518, 'vérifier': 4862, 'limage': 2586, 'montagne': 2969, 'express': 1704, 'occasion': 3159, 'maracineanu': 2810, 'roxana': 3951, 'limportance': 2595, 'sol': 4279, 'larchipel': 2427, 'délégation': 1453, 'fonds': 1835, 'transition': 4625, 'taille': 4501, 'intermédiaire': 2216, 'participatif': 3262, 'lurgence': 2710, 'catholique': 551, 'agir': 76, 'habituel': 2024, 'lodorat': 2652, 'cavité': 557, 'nasal': 3052, 'voire': 4832, 'étrange': 4979, 'pencher': 3314, 'persistante': 3332, 'tarif': 4509, 'antigénique': 174, 'payer': 3302, 'lassurance': 2441, 'réduction': 3984, 'diagnostique': 1189, 'marque': 2829, 'modèle': 2953, 'filtrant': 1790, 'quavec': 3687, 'intensif': 2207, 'sinovac': 4241, 'urgence': 4702, 'oms': 3176, 'symptomatique': 4448, 'mêler': 3045, 'algorithme': 99, 'artificiel': 224, 'dentréer': 1138, 'suspendre': 4437, 'surmonter': 4423, 'extension': 1712, 'traçage': 4643, 'téléphone': 4677, 'fautil': 1753, 'canada': 514, 'débattre': 1373, 'matinée': 2858, 'dépister': 1482, 'gratuité': 1974, 'belgiqu': 367, 'débourser': 1378, 'sagisse': 4077, 'mijuin': 2913, 'sérologique': 4484, 'exclure': 1677, 'appartenir': 187, 'tableau': 4498, 'pse': 3627, 'procédure': 3509, 'rupture': 3960, 'oui': 3210, 'réserve': 4028, 'dangereusement': 1032, 'nexiste': 3083, 'comptage': 757, 'israël': 2260, 'voiture': 4834, 'compliqué': 745, 'lappel': 2417, 'fragiliser': 1860, 'semiconducteur': 4184, 'visibilité': 4810, 'washington': 4868, 'partager': 3257, 'quantité': 3677, 'francebulgarie': 1863, 'avance': 296, 'dérogatoire': 1502, 'congé': 803, 'inévitable': 2256, 'cadence': 494, 'valencien': 4733, 'orange': 3194, 'rouge': 3938, 'couleur': 906, 'défilé': 1432, 'militaire': 2916, 'transport': 4632, 'djebbari': 1284, 'sncf': 4265, 'mediapart': 2874, 'hcsp': 2045, 'consigne': 825, 'pleinement': 3403, 'laphp': 2414, 'leffort': 2486, 'soigner': 4274, 'inconnu': 2145, 'stable': 4354, 'stabiliser': 4353, 'avérer': 311, 'susciter': 4435, 'guérie': 2004, 'débarrasser': 1371, 'détablissement': 1515, 'ménage': 3035, 'confiance': 791, 'rattrapage': 3741, 'léconomist': 2729, 'figure': 1781, 'lêtre': 2765, 'pressé': 3475, 'linquiétude': 2606, 'dispute': 1268, 'sondage': 4293, 'ifop': 2091, 'conduite': 790, 'malaise': 2792, 'patrick': 3292, 'loisir': 2663, 'décrire': 1410, 'désarroi': 1506, 'dangoisse': 1036, 'chercher': 609, 'assesseur': 231, 'particularité': 3265, 'scrutin': 4164, 'élection': 4933, 'rouen': 3937, 'dachat': 1005, 'lespagne': 2521, 'comparativement': 737, 'pointage': 3414, 'corse': 899, 'lîle': 2766, 'capitaine': 524, 'busquet': 475, 'isolé': 2259, 'délicat': 1449, 'sansdomicile': 4124, 'arrondissement': 218, 'transforme': 4620, 'facilement': 1729, 'contrairement': 870, 'harmoniser': 2030, 'autant': 285, 'décéder': 1419, 'favori': 1757, 'bleu': 403, 'chapeau': 594, 'réformer': 3992, 'défaillance': 1421, 'fonctionnement': 1830, 'quinquennat': 3697, 'gris': 1984, 'lehpad': 2488, 'température': 4527, 'casser': 544, 'félicite': 1906, 'desserr': 1151, 'entièrement': 1618, 'notable': 3115, 'drôme': 1349, 'avertissement': 303, 'demi': 1118, 'changement': 587, 'anecdote': 142, 'raoult': 3722, 'bruit': 459, 'raconter': 3712, 'cohen': 687, 'rentable': 3844, 'yves': 4887, 'camdeborde': 508, 'frais': 1861, 'daccueillir': 1000, 'agent': 73, 'veiller': 4752, 'déthiqu': 1526, 'librement': 2572, 'cantine': 520, 'collègue': 703, 'repas': 3849, 'évènement': 4994, 'munir': 3004, 'précieux': 3581, 'document': 1290, 'coopération': 887, 'stéphane': 4383, 'fabrication': 1722, 'planète': 3394, 'baigneur': 321, 'couvert': 920, 'plonger': 3405, 'lannulation': 2405, 'leurodéputé': 2530, 'françoisxavier': 1873, 'bellamy': 368, 'surface': 4421, 'leffervescence': 2483, 'disneyland': 1256, 'saccompagnerer': 4057, 'lessai': 2525, 'fabriquer': 1724, 'musique': 3009, 'dailleur': 1017, 'roselyne': 3934, 'bachelot': 319, 'progrès': 3533, 'rassurant': 3736, 'nhésiter': 3085, 'susceptible': 4433, 'freiner': 1880, 'eston': 1654, 'pittet': 3380, 'suisse': 4403, 'roi': 3927, 'laurence': 2452, 'jai': 2268, 'conserver': 821, 'frapper': 1875, 'dare': 1058, 'agriculteur': 79, 'caissier': 500, 'dentretien': 1136, 'éprouvant': 4963, 'sentir': 4191, 'ami': 125, 'vingtsept': 4796, 'daccord': 997, 'éphémère': 4955, 'ann': 153, 'hidalgo': 2054, 'sanction': 4113, 'entrepreneur': 1623, 'sanctionné': 4115, 'forain': 1839, 'discrimination': 1253, 'damien': 1027, 'ditil': 1278, 'conditionner': 787, 'performant': 3326, 'policier': 3417, 'vontils': 4845, 'pathé': 3286, 'rassure': 3737, 'réalité': 3974, 'pluie': 3407, 'brasserie': 447, 'flux': 1816, 'lattente': 2445, 'vérification': 4861, 'valoir': 4739, 'steve': 4368, 'pascolo': 3277, 'curevac': 974, 'conseille': 816, 'larn': 2431, 'visité': 4817, 'melun': 2877, 'distanciel': 1273, 'vingtaine': 4795, 'saintegenevièvedesbois': 4081, 'dafrique': 1013, 'dargentine': 1061, 'disolement': 1257, 'brésilien': 464, 'sousestimer': 4326, 'effort': 1561, 'stabilise': 4352, 'constructif': 836, 'nicola': 3087, 'sirkis': 4254, 'chanteur': 591, 'stratégique': 4377, 'laérien': 2472, 'vélo': 4857, 'durer': 1363, 'usager': 4706, 'montagn': 2968, 'cercueil': 567, 'crémation': 961, 'manifester': 2804, 'proximité': 3574, 'mairie': 2782, 'lenteur': 2509, 'jérusalem': 2333, 'ramadan': 3720, 'maison': 2783, 'améliorer': 133, 'apprentissage': 196, 'explication': 1691, 'lespoir': 2523, 'fou': 1853, 'nicolas': 3088, 'super': 4407, 'rêver': 4052, 'université': 4700, 'dexamen': 1169, 'lenseignement': 2505, 'communiqué': 733, 'examen': 1669, 'luniversité': 2708, 'spécifier': 4347, 'pâques': 3649, 'pape': 3234, 'résigner': 4034, 'traditionnel': 4609, 'allocution': 112, 'pascal': 3276, 'principalement': 3483, 'adresser': 57, 'génération': 2012, 'collectionneur': 700, 'dexemplarité': 1170, 'quai': 3676, 'saône': 4152, 'rhône': 3909, 'recrudescence': 3777, 'effectif': 1553, 'grandsparent': 1971, 'crèche': 956, 'unifier': 4693, 'soccuper': 4267, 'dautr': 1089, 'sommer': 4291, 'henri': 2048, 'mondor': 2965, 'potentiellement': 3449, 'pawlotsky': 3300, 'activement': 35, 'sébastien': 4457, 'kreb': 2347, 'église': 4929, 'croix': 949, 'expérimenter': 1710, 'néerlandais': 3140, 'prouver': 3564, 'interrégional': 2226, 'senior': 4187, 'ciblé': 639, 'populaire': 3427, 'compliqu': 744, 'trouble': 4659, 'défi': 1428, 'bloque': 405, 'déploiement': 1486, 'martin': 2836, 'blachier': 398, 'accuser': 21, 'valider': 4737, 'mimar': 2924, 'concrètement': 780, 'bd': 358, 'dangoulême': 1037, 'air': 85, 'formuler': 1847, 'eurockéenne': 1662, 'belfort': 365, 'sacrifier': 4066, 'lesprit': 2524, 'lautel': 2455, 'virtuel': 4804, 'chaîne': 603, 'continuité': 860, 'pédagogique': 3655, 'écolier': 4911, 'signaler': 4222, 'euxmême': 1667, 'indésirable': 2164, 'jeanpaul': 2285, 'vente': 4760, 'triplé': 4655, 'académie': 10, 'créteil': 965, 'impossible': 2123, 'déstabiliser': 1514, 'denfant': 1126, 'augmente': 277, 'dénombrer': 1469, 'rugby': 3957, 'toulon': 4592, 'éliminer': 4939, 'polémique': 3422, 'enfle': 1592, 'interrompre': 2225, 'coup': 908, 'denvoi': 1141, 'sisoler': 4255, 'résidence': 4030, 'psg': 3628, 'marco': 2815, 'bayern': 356, 'milieu': 2915, 'quart': 3679, 'engendrer': 1597, 'surveillance': 4428, 'neuf': 3076, 'redoute': 3786, 'drancy': 1340, 'initiative': 2180, 'statu': 4366, 'quo': 3701, 'tri': 4647, 'gilbert': 1945, 'deray': 1145, 'néphrologie': 3145, 'pitiésalpêtrière': 3379, 'afflux': 66, 'sexprimerer': 4216, 'lelyser': 2489, 'décisif': 1391, 'radical': 3713, 'privilégier': 3494, 'ordonner': 3197, 'minute': 2934, 'visiblement': 4812, 'leader': 2477, 'loir': 2661, 'lîledefrance': 2767, 'situe': 4258, 'lallocution': 2386, 'faux': 1754, 'unique': 4695, 'trier': 4652, 'sinsurge': 4247, 'pellou': 3311, 'quont': 3704, 'tribune': 4650, 'gros': 1986, 'square': 4350, 'lollapalooza': 2664, 'jeter': 2290, 'étendre': 4974, 'souligner': 4319, 'retenir': 3892, 'freinage': 1878, 'lit': 2635, 'léchec': 2725, 'jusquici': 2328, 'leffet': 2484, 'automobile': 288, 'commun': 728, 'groupama': 1990, 'stadium': 4357, 'lantr': 2412, 'illustration': 2097, 'daccélérer': 1004, 'amalgame': 118, 'déprogrammation': 1495, 'mauvais': 2865, 'interdire': 2212, 'condamner': 784, 'contour': 861, 'accuse': 20, 'édito': 4925, 'éditorialiste': 4926, 'beytout': 380, 'èm': 4896, 'échec': 4903, 'ducasse': 1351, 'blouse': 407, 'téléspectateur': 4678, 'médiamétrie': 3021, 'anxieux': 181, 'dépressif': 1492, 'passage': 3280, 'dépression': 1493, 'significatif': 4227, 'lautomne': 2457, 'phénomène': 3364, 'construction': 837, 'modeste': 2950, 'daider': 1016, 'dosaker': 1320, 'flamme': 1808, 'relais': 3812, 'métropole': 3041, 'gouverneur': 1962, 'cité': 649, 'perle': 3327, 'recueil': 3780, 'blague': 399, 'contribuer': 878, 'françois': 1872, 'lhumour': 2560, 'juguler': 2315, 'privilégie': 3493, 'penche': 3313, 'repoussée': 3856, 'sévir': 4490, 'intensité': 2209, 'délève': 1452, 'tape': 4505, 'julian': 2319, 'bugier': 470, 'pose': 3437, 'spoutnik': 4339, 'russie': 3965, 'bertrand': 378, 'thamin': 4558, 'octogénaire': 3162, 'retraité': 3899, 'cour': 912, 'complètement': 747, 'multiplication': 2999, 'annulation': 158, 'brusquer': 461, 'convalescence': 884, 'dégrader': 1440, 'saccentue': 4054, 'croire': 945, 'cycliste': 977, 'parisroubai': 3251, 'laggravation': 2375, 'entourage': 1619, 'rétracter': 4042, 'californie': 503, 'directive': 1245, 'enceinte': 1584, 'contradictoire': 865, 'linterdiction': 2615, 'anneclaude': 154, 'crémieu': 962, 'infectieuse': 2167, 'saintloui': 4085, 'balayer': 328, 'inutiliser': 2239, 'oeuvre': 3164, 'crucial': 953, 'dinfection': 1221, 'lassitude': 2438, 'massue': 2849, 'inquiéter': 2188, 'ceuxci': 576, 'diagnostic': 1188, 'discussion': 1254, 'remboursement': 3821, 'cascade': 542, 'entrainer': 1621, 'dannulation': 1042, 'gîte': 2021, 'caillot': 499, 'sanguin': 4118, 'serge': 4200, 'hefez': 2047, 'psychanalyst': 3630, 'note': 3116, 'exode': 1688, 'urbain': 4701, 'rejoindre': 3811, 'pialou': 3365, 'vocation': 4829, 'composer': 751, 'moindre': 2955, 'paroisse': 3253, 'thrombos': 4565, 'nathalie': 3054, 'elima': 1563, 'prévision': 3621, 'abaisser': 1, 'auparavant': 281, 'conduire': 789, 'coût': 929, 'passeport': 3282, 'sorganiser': 4302, 'fixe': 1802, 'troussel': 4661, 'favoriser': 1758, 'saccroîtr': 4059, 'séloigner': 4471, 'délargir': 1446, 'armée': 211, 'grimper': 1981, 'ferme': 1762, 'marlène': 2828, 'schiappa': 4158, 'lattitude': 2447, 'poser': 3438, 'peutêtre': 3346, 'citoyenneter': 648, 'avancé': 298, 'gendarme': 1936, 'concours': 778, 'foch': 1820, 'suresne': 4419, 'gaspiller': 1930, 'inscrit': 2192, 'intermittent': 2215, 'crier': 940, 'forêt': 1851, 'bois': 412, 'développer': 1538, 'lautr': 2461, 'pyrénée': 3648, 'dapprendre': 1053, 'balade': 326, 'évidemment': 4989, 'atypique': 271, 'bouger': 433, 'invite': 2247, 'lorganisateur': 2678, 'présumer': 3618, 'participation': 3263, 'pierrejean': 3371, 'chalençon': 578, 'palais': 3225, 'vivienn': 4826, 'reportage': 3852, 'naturalisation': 3059, 'dobtenir': 1285, 'démarche': 1457, 'facture': 1732, 'courrier': 915, 'totalité': 4589, 'nouvellecalédonie': 3126, 'intense': 2206, 'impacter': 2115, 'tournage': 4598, 'hippocrat': 2056, 'alice': 101, 'interne': 2218, 'investigation': 2242, 'procureur': 3506, 'nippon': 3093, 'meurtrier': 2898, 'perche': 3320, 'citadin': 646, 'woofing': 4874, 'fuir': 1897, 'laube': 2448, 'principe': 3484, 'profite': 3522, 'fond': 1832, 'ensoleillé': 1611, 'bord': 421, 'lhistoire': 2553, 'ouvrage': 3217, 'motif': 2987, 'impérieu': 2130, 'pasdecalai': 3278, 'réfrigérateur': 3993, 'aggraver': 75, 'suspension': 4439, 'administration': 50, 'balance': 327, 'risquebénéfic': 3917, 'quasi': 3681, 'sanctuaire': 4116, 'désert': 1508, 'saccroît': 4058, 'atténuer': 270, 'volume': 4842, 'fluctuer': 1815, 'dassouplissement': 1072, 'lolympiqu': 2665, 'lyonnais': 2722, 'lenceinte': 2497, 'poing': 3412, 'sapeurspompier': 4126, 'perquisition': 3330, 'christophe': 630, 'leroy': 2518, 'soupçonner': 4322, 'luxueux': 2718, 'navoir': 3067, 'croiser': 946, 'calai': 501, 'bouder': 430, 'dinformation': 1223, 'hh': 2053, 'corinne': 894, 'goff': 1952, 'rédaction': 3983, 'harri': 2031, 'interactif': 2210, 'bénéfice': 483, 'répertorier': 4017, 'bénéficerisqu': 484, 'réticents': 4041, 'dacheter': 1006, 'nourrir': 3122, 'coordonner': 888, 'cned': 675, 'cible': 637, 'cyberattaque': 975, 'anssi': 162, 'dannoncer': 1041, 'venezuela': 4757, 'acheter': 29, 'vénézuélien': 4859, 'maduro': 2773, 'chamboulée': 581, 'ruse': 3963, 'méfiant': 3029, 'contourner': 862, 'lemportent': 2495, 'méfier': 3030, 'anglosuédois': 148, 'jeanluc': 2282, 'reichmann': 3807, 'brigade': 456, 'lanimateur': 2403, 'incite': 2140, 'sudafricain': 4394, 'durée': 1365, 'york': 4881, 'outreatlantiqu': 3212, 'sinterrogent': 4252, 'ravir': 3745, 'négocier': 3144, 'extrêmement': 1718, 'saturé': 4144, 'multiple': 2998, 'jair': 2269, 'bolsonaro': 413, 'refuse': 3796, 'dinstaurer': 1232, 'ffp': 1771, 'suffire': 4397, 'édouard': 4927, 'lexpremier': 2542, 'regard': 3799, 'estimetil': 1652, 'bâillonner': 479, 'médiatique': 3024, 'chine': 615, 'rapporte': 3728, 'épidémie': 4956, 'réalisateur': 3971, 'bug': 469, 'informatique': 2175, 'apparemment': 185, 'jusqual': 2325, 'connaissance': 807, 'sétait': 4489, 'utilisateur': 4710, 'renseigner': 3843, 'préalable': 3577, 'décole': 1397, 'assigner': 232, 'connexion': 812, 'libéral': 2573, 'oxygèn': 3221, 'prescrire': 3469, 'sintensifie': 4249, 'doxford': 1335, 'mortel': 2983, 'sdj': 4168, 'télévisés': 4684, 'neurologique': 3077, 'the': 4560, 'lancet': 2397, 'psychiatrique': 3632, 'inacceptable': 2132, 'intervention': 2228, 'déprogrammée': 1498, 'considérer': 824, 'suffisant': 4399, 'symbole': 4446, 'piqûre': 3374, 'atteinte': 259, 'hautesavoi': 2039, 'homicide': 2059, 'involontaire': 2250, 'aton': 253, 'emmaü': 1575, 'connect': 809, 'mission': 2938, 'ordinateur': 3195, 'matériau': 2862, 'bâtiment': 480, 'désorganisation': 1513, 'btp': 465, 'provoque': 3572, 'jouentelle': 2304, 'australie': 284, 'golf': 1953, 'booster': 420, 'inattendu': 2133, 'sudouest': 4396, 'proportion': 3552, 'desserrement': 1152, 'arrière': 217, 'fille': 1787, 'vaccidrive': 4717, 'montpellier': 2975, 'saintjeandevéda': 4083, 'bénévole': 487, 'matériel': 2863, 'expliquetil': 1694, 'alex': 97, 'goude': 1956, 'nai': 3046, 'payant': 3301, 'rumeur': 3958, 'accessible': 13, 'dactivité': 1008, 'employer': 1577, 'pause': 3297, 'sévère': 4491, 'retarder': 3890, 'viol': 4797, 'commettre': 724, 'conditionnel': 786, 'prison': 3491, 'violence': 4799, 'agression': 78, 'sexuel': 4217, 'trentenaire': 4646, 'libération': 2574, 'anticipé': 169, 'pathologie': 3285, 'significativement': 4228, 'lâge': 2724, 'laxisme': 2470, 'universitaire': 4699, 'faiblir': 1736, 'ursula': 4705, 'von': 4843, 'der': 1144, 'leyen': 2548, 'dannonce': 1040, 'présider': 3617, 'réunion': 4043, 'lépargne': 2749, 'banque': 334, 'dassurer': 1073, 'regrouper': 3806, 'absence': 7, 'athlète': 251, 'bouleverser': 435, 'garantie': 1922, 'minoritaire': 2931, 'dominer': 1302, 'sadapter': 4069, 'dévaluer': 1534, 'envisageable': 1630, 'contraignant': 866, 'différemment': 1204, 'concentrer': 767, 'lindustrie': 2601, 'agnès': 77, 'pannierrunacher': 3233, 'entier': 1617, 'vainopoulo': 4729, 'matsuyama': 2860, 'saccumuler': 4060, 'nier': 3089, 'bfmtv': 381, 'légalité': 2735, 'servir': 4207, 'figaro': 1780, 'sophie': 4299, 'lexemple': 2537, 'dégrad': 1438, 'daffluer': 1012, 'nordouest': 3109, 'nancy': 3049, 'épauler': 4954, 'défaut': 1423, 'contrepartie': 875, 'diriger': 1248, 'mode': 2947, 'outil': 3211, 'soimême': 4275, 'contaminé': 851, 'asymptomatique': 249, 'cubain': 966, 'hauteur': 2040, 'daoût': 1050, 'prince': 3481, 'pub': 3637, 'reine': 3809, 'dangleterre': 1035, 'outremanche': 3213, 'viser': 4808, 'dorganiser': 1315, 'forum': 1850, 'slogan': 4264, 'remplir': 3827, 'dépenser': 1479, 'livret': 2643, 'video': 4781, 'matthieu': 2861, 'belliard': 369, 'expériment': 1708, 'présentateur': 3609, 'lantenne': 2409, 'dappuyer': 1055, 'nimporte': 3090, 'arrive': 214, 'kit': 2342, 'prélèvement': 3597, 'notion': 3119, 'adjoint': 46, 'fondation': 1834, 'définition': 1435, 'position': 3440, 'édile': 4923, 'traiter': 4614, 'limmunisation': 2592, 'immunisation': 2106, 'provisoire': 3570, 'fmi': 1817, 'seraitil': 4196, 'keynésien': 2337, 'accru': 18, 'lapprentissage': 2419, 'foulée': 1856, 'détruire': 1529, 'demploi': 1123, 'demeure': 1116, 'récent': 3978, 'londrer': 2668, 'investir': 2243, 'souffl': 4308, 'allier': 110, 'souscrit': 4325, 'loffre': 2654, 'évaluer': 4986, 'exprimer': 1705, 'alentour': 94, 'innovation': 2185, 'budget': 466, 'finance': 1794, 'observe': 3154, 'bernard': 377, 'offrir': 3171, 'lentreprise': 2513, 'doffrir': 1294, 'retraite': 3898, 'renaud': 3830, 'muselier': 3006, 'précommande': 3588, 'paca': 3223, 'positionner': 3441, 'lambassadeur': 2389, 'mijuillet': 2912, 'sintensifier': 4250, 'route': 3946, 'marchandise': 2812, 'lembarra': 2491, 'saintjoseph': 4084, 'détente': 1523, 'bulle': 471, 'stress': 4379, 'sélève': 4472, 'sénatrice': 4476, 'garriaudmaylam': 1928, 'effectivement': 1554, 'reprocher': 3860, 'vœu': 4866, 'tarder': 4507, 'serontil': 4201, 'staff': 4358, 'détendre': 1522, 'liaison': 2566, 'suicide': 4402, 'dinterne': 1235, 'rallonge': 3719, 'escroquerie': 1637, 'répression': 4020, 'fraude': 1876, 'prémunir': 3598, 'progresser': 3529, 'télétravailleur': 4681, 'rural': 3962, 'lois': 2662, 'réfléchir': 3990, 'entendre': 1615, 'savérer': 4151, 'outremer': 3214, 'duhamel': 1352, 'clark': 654, 'brice': 454, 'hortefeux': 2070, 'précis': 3582, 'procurer': 3505, 'amende': 122, 'subir': 4386, 'dinfirmier': 1222, 'institut': 2202, 'paquebot': 3236, 'immobiliser': 2104, 'polluer': 3420, 'mastodonte': 2850, 'croisière': 947, 'forcer': 1841, 'linstauration': 2612, 'dalerte': 1021, 'edouard': 1552, 'nuance': 3131, 'visàvi': 4818, 'durcissement': 1361, 'incertain': 2137, 'costagliola': 903, 'immunité': 2109, 'séquelle': 4479, 'jesu': 2289, 'martingarcia': 2838, 'biotech': 395, 'péril': 3666, 'imputable': 2127, 'faiblesse': 1735, 'dart': 1067, 'valneva': 4738, 'iii': 2094, 'michaël': 2902, 'edelstein': 1550, 'daprèsmidi': 1057, 'action': 34, 'tribunal': 4649, 'diplomatique': 1239, 'culotte': 969, 'boutique': 440, 'renforcement': 3836, 'incendie': 2136, 'taire': 4502, 'banlieue': 332, 'disponibilité': 1261, 'létoile': 2756, 'jaune': 2277, 'antivaccin': 176, 'militant': 2917, 'nouméa': 3121, 'david': 1096, 'référence': 3994, 'hautcommissair': 2035, 'maldive': 2793, 'dasi': 1068, 'pornic': 3430, 'insuffisant': 2203, 'roussel': 3945, 'fabien': 1720, 'présidentiel': 3616, 'crépey': 964, 'précaution': 3580, 'sheila': 4218, 'star': 4362, 'atell': 250, 'sûreté': 4495, 'linternat': 2617, 'diligenter': 1208, 'sanctionner': 4114, 'carnet': 537, 'apporter': 194, 'fonctionnalité': 1828, 'loutremer': 2690, 'rapproche': 3730, 'compétence': 761, 'bassin': 348, 'praticien': 3461, 'hong': 2065, 'kong': 2346, 'passager': 3281, 'dinterdire': 1234, 'rmc': 3920, 'story': 4374, 'documentaire': 1291, 'diffus': 1201, 'intituler': 2231, 'marseillais': 2832, 'entoure': 1620, 'lhypothèse': 2561, 'divise': 1280, 'endiguer': 1589, 'émotion': 4950, 'musicien': 3008, 'conducteur': 788, 'chauffeur': 601, 'routier': 3947, 'plateau': 3397, 'aborder': 5, 'atout': 254, 'var': 4742, 'sonder': 4294, 'isolement': 2258, 'lentretien': 2514, 'répartir': 4014, 'électronique': 4935, 'situer': 4259, 'linterview': 2618, 'michael': 2901, 'startup': 4363, 'mijanvier': 2911, 'africain': 69, 'pompier': 3424, 'vise': 4807, 'atteignable': 257, 'addiction': 42, 'distinct': 1274, 'délinquance': 1450, 'lexercice': 2538, 'greta': 1978, 'thunberg': 4567, 'cop': 889, 'doigt': 1295, 'flacon': 1804, 'continent': 856, 'sachève': 4064, 'cybersécurité': 976, 'douter': 1331, 'iledefrance': 2096, 'îledefrance': 4997, 'périlleux': 3667, 'vaisseau': 4730, 'enquêter': 1601, 'science': 4159, 'lirruption': 2628, 'légitime': 2738, 'examine': 1670, 'globalement': 1950, 'sinscrire': 4245, 'sinquiéter': 4244, 'incident': 2139, 'poursuite': 3453, 'denquête': 1127, 'mégacentre': 3031, 'tripler': 4654, 'mensonge': 2882, 'nauront': 3065, 'écouter': 4918, 'réanimateur': 3975, 'danticipation': 1047, 'coupable': 909, 'pécresse': 3653, 'reconduire': 3765, 'resto': 3885, 'lopération': 2676, 'visible': 4811, 'fiasco': 1775, 'communion': 732, 'baptême': 335, 'générer': 2013, 'frustration': 1889, 'terminer': 4541, 'éclaircissement': 4908, 'valérie': 4740, 'régresser': 4001, 'bras': 446, 'rêve': 4051, 'gibraltar': 1944, 'éclair': 4907, 'guérin': 2005, 'extrême': 1717, 'précisément': 3586, 'pot': 3447, 'grandir': 1969, 'dintensifier': 1233, 'dendiguer': 1125, 'lexplosion': 2541, 'proie': 3534, 'lumière': 2700, 'cruellement': 954, 'débloquer': 1376, 'structure': 4381, 'pge': 3350, 'foyer': 1858, 'ski': 4261, 'origine': 3204, 'lr': 2694, 'provencealpescôt': 3566, 'immunodéprimée': 2110, 'ladénoviru': 2367, 'stocker': 4371, 'étalement': 4970, 'dette': 1161, 'concertation': 771, 'déprimé': 1494, 'asselin': 229, 'dautotests': 1088, 'party': 3274, 'sexprimer': 4215, 'diminution': 1212, 'cimetière': 640, 'dautant': 1085, 'décompte': 1399, 'examiner': 1671, 'guadeloupe': 1997, 'visioconférence': 4813, 'élaborer': 4930, 'lenjeu': 2502, 'fouet': 1854, 'sudest': 4395, 'doubler': 1325, 'amener': 123, 'absolument': 9, 'msf': 2994, 'pervers': 3339, 'publiquement': 3641, 'engagement': 1595, 'illustre': 2098, 'faudratil': 1749, 'dimmunologie': 1215, 'témoigne': 4685, 'expatrié': 1689, 'camille': 509, 'complexe': 742, 'représentation': 3863, 'savère': 4150, 'offre': 3170, 'san': 4112, 'fermin': 1765, 'pampelune': 3228, 'habituellement': 2025, 'tenue': 4537, 'info': 2173, 'pratiquement': 3463, 'lencontre': 2498, 'reproche': 3859, 'sapplique': 4127, 'collectivité': 701, 'recommencer': 3763, 'renvoyer': 3847, 'italie': 2263, 'dépargner': 1471, 'péninsule': 3661, 'mario': 2826, 'draghi': 1338, 'ambitieux': 120, 'autorise': 290, 'consister': 827, 'disposer': 1264, 'improviser': 2126, 'butteschaumont': 477, 'destruction': 1159, 'caraïbe': 527, 'thaïland': 4559, 'dollar': 1298, 'épargner': 4953, 'pièce': 3381, 'indigné': 2153, 'déblocage': 1374, 'daccélérateur': 1002, 'lalimentation': 2382, 'plongée': 3406, 'vélodrome': 4858, 'tournant': 4599, 'marinspompier': 2825, 'desbiolle': 1147, 'systématique': 4454, 'dappel': 1051, 'spécifiquement': 4349, 'commenter': 717, 'assumer': 242, 'linstar': 2611, 'disque': 1270, 'gain': 1916, 'click': 662, 'and': 140, 'collect': 697, 'compenser': 740, 'mur': 3005, 'deauville': 1103, 'lespace': 2520, 'ratp': 3740, 'cnil': 678, 'caméra': 513, 'adhérer': 44, 'reconfinée': 3770, 'neuropsychiatre': 3079, 'odile': 3163, 'jacob': 2266, 'bori': 425, 'cyrulnik': 981, 'lhumanité': 2558, 'survivre': 4432, 'lodéon': 2653, 'prolongation': 3540, 'technicien': 4517, 'ovh': 3219, 'panique': 3232, 'web': 4869, 'froid': 1883, 'dîledefrance': 1545, 'déprogrammer': 1496, 'destimer': 1156, 'médian': 3022, 'compagnie': 735, 'anime': 152, 'priori': 3486, 'norvèg': 3114, 'yseult': 4885, 'simpatient': 4233, 'consiste': 826, 'expérimenté': 1711, 'martiniqu': 2839, 'feignant': 1760, 'lurgentist': 2711, 'tire': 4577, 'mayotte': 2867, 'saiton': 4096, 'concurrent': 782, 'nécessit': 3137, 'frigo': 1881, 'ue': 4689, 'grandebretagn': 1967, 'corée': 900, 'nouvellezélande': 3127, 'fustiger': 1902, 'déplorer': 1488, 'avantage': 300, 'diledefrance': 1207, 'transfert': 4618, 'xv': 4877, 'galthié': 1919, 'sélectionneur': 4469, 'lecoss': 2480, 'soulever': 4317, 'inscrire': 2191, 'pratiquer': 3464, 'of': 3165, 'medicin': 2875, 'mathieu': 2853, 'grippe': 1983, 'pressant': 3471, 'saccentuer': 4055, 'nenvisage': 3072, 'liledefrance': 2583, 'lagglomération': 2374, 'profit': 3521, 'logistique': 2658, 'processus': 3501, 'endeuiller': 1588, 'miracle': 2935, 'opter': 3185, 'claudier': 660, 'incompréhensible': 2144, 'jacques': 2267, 'battistoni': 352, 'vétérinaire': 4865, 'palier': 3226, 'lettre': 2528, 'lactualité': 2363, 'sintéresse': 4253, 'écossais': 4915, 'fiable': 1774, 'lopinion': 2673, 'cosmétique': 901, 'ravage': 3743, 'mathilde': 2854, 'influence': 2171, 'vitesse': 4821, 'représente': 3864, 'évacuation': 4984, 'covidtracker': 927, 'frédériqu': 1891, 'vidal': 4779, 'gel': 1935, 'dinscription': 1230, 'veolia': 4762, 'inaugurer': 2134, 'siège': 4260, 'patronne': 3294, 'emblématique': 1571, 'dunkerqu': 1355, 'prolongement': 3541, 'groupement': 1992, 'primate': 3478, 'diego': 1196, 'sagit': 4078, 'concevoir': 775, 'gorille': 1955, 'agacer': 71, 'quastrazeneca': 3683, 'louis': 2688, 'doccupation': 1286, 'artistique': 228, 'gastronomique': 1931, 'parade': 3238, 'savoie': 4148, 'paquet': 3237, 'exigence': 1684, 'éthique': 4976, 'solennellement': 4282, 'notredame': 3120, 'recueillir': 3781, 'calvados': 507, 'raslebol': 3733, 'cloche': 669, 'rouleau': 3941, 'terre': 4545, 'éleveur': 4936, 'représentant': 3862, 'filière': 1786, 'argent': 206, 'gueule': 2000, 'hamon': 2028, 'dhonneur': 1180, 'prometteur': 3544, 'oral': 3193, 'merck': 2886, 'viral': 4801, 'telaviv': 4521, 'lévènement': 2763, 'goût': 1963, 'évacuer': 4985, 'manifestant': 2802, 'licenciement': 2575, 'problématique': 3500, 'daniel': 1038, 'lunité': 2707, 'grandsmère': 1970, 'retrouvaille': 3900, 'petitsenfant': 3342, 'compromettre': 753, 'cœur': 993, 'zazie': 4888, 'enfoiré': 1593, 'tf': 4556, 'collecte': 698, 'dur': 1358, 'signataire': 4223, 'montchalin': 2972, 'apprécier': 202, 'transformation': 4619, 'echo': 1548, 'anticipe': 167, 'lorsquil': 2683, 'goutte': 1957, 'seineetmarne': 4178, 'disparité': 1259, 'saturation': 4142, 'urgent': 4703, 'délétère': 1455, 'proscrire': 3559, 'xavier': 4876, 'nassif': 3053, 'suspicion': 4440, 'molécul': 2959, 'molécule': 2960, 'antibiotique': 165, 'linterféron': 2616, 'devedjian': 1166, 'invoquer': 2251, 'retardé': 3891, 'gilet': 1946, 'fréquemment': 1893, 'astrazenecaoxford': 247, 'initialement': 2179, 'versement': 4769, 'signature': 4224, 'planche': 3392, 'explosif': 1698, 'reconfine': 3766, 'fonctionne': 1829, 'daccompagnement': 996, 'antille': 175, 'répéter': 4023, 'désengorger': 1507, 'blue': 408, 'dam': 1026, 'cesse': 573, 'multiplicité': 3000, 'marina': 2823, 'césar': 988, 'lhonneur': 2556, 'provisoirement': 3571, 'linitiative': 2604, 'collaborateur': 695, 'colossal': 707, 'jordan': 2302, 'bardella': 339, 'rn': 3921, 'chirurgie': 618, 'dallemagn': 1022, 'souverain': 4330, 'magazine': 2775, 'lecteur': 2481, 'télévision': 4683, 'prévention': 3620, 'caume': 553, 'woodkid': 4873, 'supermarché': 4410, 'adaptation': 39, 'peinture': 3310, 'bordelais': 423, 'réorganiser': 4010, 'procédé': 3510, 'nommer': 3101, 'gouvernance': 1959, 'sagace': 4071, 'transparence': 4631, 'escroc': 1636, 'diviser': 1281, 'solliciter': 4288, 'lautorité': 2460, 'homogène': 2062, 'samu': 4109, 'braun': 448, 'intenable': 2205, 'surprise': 4426, 'boucler': 429, 'optimisme': 3187, 'tchèque': 4515, 'dosage': 1319, 'analyse': 137, 'transmissibilité': 4628, 'sévérité': 4492, 'défavorable': 1424, 'cese': 572, 'profond': 3524, 'sphère': 4334, 'dommage': 1305, 'saturer': 4143, 'gaudry': 1933, 'avicenne': 304, 'bobigny': 409, 'saggraver': 4075, 'pédiatre': 3656, 'christell': 627, 'suicidaire': 4401, 'dresse': 1343, 'chambouler': 580, 'alsace': 117, 'hautement': 2037, 'lisible': 2629, 'familial': 1743, 'commercialiser': 722, 'imminent': 2102, 'longuement': 2670, 'freine': 1879, 'suèd': 4441, 'décréter': 1417, 'responsabilité': 3871, 'suédois': 4443, 'edito': 1551, 'démocratie': 1464, 'pire': 3376, 'opinion': 3179, 'emporter': 1580, 'andré': 141, 'comtesponvill': 763, 'joue': 2303, 'onusien': 3178, 'abad': 0, 'coûter': 931, 'définitif': 1434, 'défaite': 1422, 'axel': 313, 'perdure': 3322, 'panier': 3231, 'denrée': 1129, 'obstacle': 3156, 'lonu': 2672, 'météorologique': 3044, 'épuiser': 4964, 'bastille': 349, 'généticien': 2014, 'sociologue': 4270, 'contrer': 876, 'sacrifié': 4067, 'bondir': 415, 'christine': 629, 'angoisse': 149, 'pied': 3369, 'recruter': 3779, 'théoriquement': 4570, 'définitivement': 1436, 'coagulation': 680, 'anger': 144, 'bouffée': 431, 'misère': 2939, 'lautonomie': 2458, 'excéder': 1678, 'aidesoigner': 82, 'exercer': 1681, 'timsit': 4576, 'bichat': 382, 'saintlô': 4086, 'préserver': 3613, 'manche': 2799, 'gérard': 2018, 'unité': 4697, 'contester': 854, 'dévacuation': 1533, 'denvoyer': 1142, 'irlandais': 2257, 'procéder': 3508, 'frémau': 1892, 'enragé': 1603, 'canne': 519, 'déclare': 1394, 'déprogrammé': 1497, 'souligne': 4318, 'écoulé': 4917, 'twitch': 4670, 'extrémité': 1716, 'instance': 2199, 'échoscnew': 4906, 'lanticipation': 2411, 'dynamique': 1369, 'complexité': 743, 'luimêm': 2698, 'angela': 143, 'merkel': 2888, 'chancelière': 586, 'carnaval': 535, 'plaine': 3388, 'phocéen': 3360, 'latlantiqu': 2444, 'sauvage': 4145, 'monte': 2973, 'proposition': 3556, 'élisabeth': 4941, 'damélioration': 1028, 'piège': 3382, 'considérablement': 823, 'ajustement': 88, 'couvrir': 923, 'cyrill': 980, 'dimmunothérapie': 1216, 'ilan': 2095, 'vivable': 4823, 'naugmente': 3062, 'vincer': 4794, 'blocage': 404, 'larmée': 2430, 'attractif': 267, 'dexplosion': 1173, 'résister': 4037, 'task': 4510, 'traquer': 4634, 'chocolatier': 621, 'cordonnier': 893, 'lunanimité': 2702, 'hybride': 2078, 'saggrave': 4074, 'imbroglio': 2101, 'immédiatement': 2113, 'rideau': 3912, 'spleen': 4335, 'coiffeur': 688, 'spoutnikv': 4340, 'viceprésident': 4775, 'subterfuge': 4390, 'bourge': 436, 'minimum': 2927, 'doptimisme': 1311, 'aboutir': 6, 'clarifier': 653, 'grotesque': 1989, 'tedro': 4520, 'adhanom': 43, 'ghebreyesu': 1943, 'léviter': 2761, 'manœuvr': 2809, 'restetil': 3884, 'verrouillage': 4767, 'commercer': 719, 'vecteur': 4750, 'durcir': 1360, 'solitaire': 4286, 'roche': 3925, 'banc': 329, 'couture': 919, 'tissu': 4579, 'semball': 4182, 'lisnard': 2631, 'macao': 2769, 'vision': 4814, 'instagram': 2196, 'nièvr': 3096, 'gérald': 2016, 'darmanin': 1062, 'compréhension': 754, 'cyme': 978, 'regret': 3802, 'séchapper': 4458, 'péage': 3652, 'libraire': 2569, 'geoffroy': 1938, 'roux': 3950, 'bézieu': 489, 'acharnement': 27, 'medef': 2873, 'sonnette': 4297, 'réglementation': 3999, 'plier': 3404, 'seinemaritim': 4179, 'témoigner': 4686, 'laporte': 2415, 'enfreindre': 1594, 'sappuyer': 4131, 'saintmalo': 4087, 'heurt': 2051, 'opposant': 3181, 'éclater': 4909, 'requérir': 3867, 'histoire': 2057, 'scruter': 4163, 'bienvenue': 387, 'labolition': 2350, 'francoallemande': 1869, 'sarreguemine': 4134, 'domaine': 1299, 'chantilly': 593, 'avancée': 299, 'hypothèse': 2080, 'impliquer': 2119, 'office': 3166, 'religieux': 3818, 'saint': 4079, 'lélection': 2743, 'mécanisme': 3017, 'approvisionnement': 201, 'gironde': 1948, 'incertitude': 2138, 'benjamin': 370, 'davido': 1097, 'infectiologue': 2168, 'raymondpoincarer': 3746, 'garche': 1924, 'sélèver': 4473, 'rebeille': 3749, 'borgella': 424, 'mètre': 3015, 'amateur': 119, 'comparution': 738, 'carnavalier': 536, 'spécialisée': 4345, 'issu': 2261, 'hommage': 2060, 'fonctionnaire': 1827, 'pétrole': 3670, 'téléviser': 4682, 'catalan': 547, 'expérience': 1707, 'électoral': 4934, 'comptabiliser': 756, 'lhomme': 2555, 'improbable': 2125, 'denviron': 1139, 'ajoutetil': 87, 'constant': 829, 'micheledouard': 2904, 'leclerc': 2478, 'souvenir': 4329, 'supermarcher': 4409, 'linviter': 2623, 'oxygénothérapie': 3222, 'défier': 1431, 'lansm': 2407, 'veine': 4753, 'isèr': 2262, 'carré': 539, 'résignation': 4033, 'patinage': 3290, 'couple': 911, 'dheure': 1177, 'violation': 4798, 'paraitre': 3239, 'fosse': 1852, 'valdois': 4732, 'bouzou': 443, 'launay': 2451, 'cochin': 681, 'municipal': 3002, 'dinstaller': 1231, 'dinitiative': 1224, 'invisibilisé': 2246, 'vih': 4788, 'sidaction': 4219, 'gratuitement': 1973, 'oss': 3207, 'noir': 3098, 'démocrate': 1463, 'lbachir': 2475, 'benmohamed': 371, 'immunologist': 2111, 'universel': 4698, 'mea': 2871, 'culpa': 970, 'déchec': 1389, 'lallemand': 2384, 'dentiste': 1132, 'désole': 1512, 'sorte': 4303, 'danalyse': 1029, 'secours': 4172, 'jeanyve': 2287, 'drian': 1345, 'kremlin': 2348, 'propagand': 3549, 'lula': 2699, 'silva': 4231, 'lactuel': 2364, 'chantage': 590, 'prolong': 3539, 'intensifier': 2208, 'rousseau': 3944, 'stockage': 4370, 'congélateur': 804, 'standard': 4360, 'queurope': 3693, 'décevoir': 1387, 'loxygénation': 2692, 'naissance': 3047, 'cohabiter': 686, 'secouer': 4171, 'repérer': 3866, 'denseignant': 1130, 'dautrui': 1091, 'viceprésidente': 4776, 'coûteux': 932, 'terrestre': 4546, 'pologn': 3421, 'fuite': 1898, 'déventuelle': 1539, 'viseur': 4809, 'gauche': 1932, 'hydroalcoolique': 2079, 'conforme': 798, 'correctionnel': 897, 'fédéral': 1904, 'fauteuil': 1752, 'rouler': 3942, 'lionel': 2626, 'michèle': 2905, 'analyser': 138, 'légume': 2740, 'vanne': 4741, 'plat': 3396, 'eau': 1547, 'user': 4707, 'préfectoral': 3593, 'dijon': 1206, 'ticket': 4572, 'salarm': 4099, 'dhava': 1176, 'mécanique': 3016, 'noël': 3130, 'industriel': 2162, 'laffaire': 2368, 'bouvet': 442, 'labandon': 2349, 'lallongement': 2387, 'dhiver': 1178, 'économie': 4912, 'dépidémie': 1480, 'explose': 1696, 'pédopsychiatrie': 3658, 'ladoption': 2366, 'virologie': 4802, 'logique': 2657, 'pékin': 3659, 'braver': 449, 'désobéissance': 1511, 'nonalimentaire': 3103, 'diminué': 1213, 'sétablit': 4487, 'dax': 1100, 'tyrannie': 4673, 'barbier': 337, 'léditorialist': 2732, 'lémergence': 2746, 'tentative': 4535, 'clinicienne': 667, 'dembauche': 1115, 'serr': 4202, 'soliday': 4285, 'annule': 159, 'fréquence': 1894, 'halle': 2027, 'attention': 262, 'pépy': 3664, 'régner': 4000, 'embarquer': 1568, 'dorly': 1318, 'forcément': 1842, 'détérioration': 1532, 'vaste': 4746, 'choc': 619, 'onremplitlefrigo': 3177, 'cagnotte': 498, 'déroule': 1503, 'lanalyse': 2394, 'concentration': 765, 'coliser': 692, 'lentourage': 2511, 'somme': 4290, 'liban': 2567, 'bosnie': 427, 'cibler': 638, 'mallogement': 2796, 'submerger': 4387, 'enterrement': 1616, 'dannée': 1043, 'impôt': 2131, 'combler': 712, 'martigue': 2835, 'chicha': 612, 'ompsg': 3175, 'surprendre': 4425, 'nonrespect': 3105, 'artisanau': 226, 'léchell': 2726, 'constructeur': 835, 'aliot': 103, 'perpignan': 3329, 'gouvernemental': 1961, 'revendique': 3904, 'menu': 2884, 'cuisine': 967, 'stabilisation': 4351, 'gaspard': 1929, 'youtubeur': 4884, 'dimmuniser': 1214, 'bpifrance': 445, 'reims': 3808, 'lanimal': 2402, 'réinventer': 4005, 'mucem': 2995, 'objet': 3149, 'sélectionner': 4468, 'hugo': 2075, 'relayer': 3816, 'moine': 2956, 'skieur': 4263, 'patrouille': 3295, 'estudiantine': 1656, 'tapage': 4504, 'déconseiller': 1404, 'morose': 2980, 'populisme': 3429, 'christian': 628, 'estrosi': 1655, 'comptegoutte': 759, 'volontariste': 4840, 'carbone': 528, 'dénombre': 1468, 'submersion': 4388, 'tasser': 4511, 'délaborer': 1443, 'réchauffement': 3979, 'climatique': 666, 'depot': 1143, 'redressement': 3788, 'nation': 3055, 'programmer': 3527, 'partisan': 3272, 'indu': 2159, 'pénal': 3660, 'fatalité': 1746, 'peutil': 3344, 'crédit': 959, 'correspondre': 898, 'vitamine': 4819, 'carence': 532, 'surconsommation': 4418, 'fréquent': 1895, 'dispose': 1263, 'effondrer': 1560, 'valable': 4731, 'daffluence': 1011, 'répercussion': 4016, 'ressentir': 3875, 'considérable': 822, 'inéluctable': 2255, 'médiateur': 3023, 'metz': 2895, 'quolivier': 3702, 'grosdidier': 1987, 'météo': 3043, 'gouttelette': 1958, 'nexclut': 3082, 'organisme': 3203, 'cellesci': 559, 'grippal': 1982, 'dair': 1018, 'localiser': 2649, 'sannoncent': 4121, 'dicter': 1192, 'webcam': 4870, 'évolution': 4991, 'fabricant': 1721, 'accroître': 17, 'diversifier': 1279, 'attirer': 266, 'neige': 3069, 'stupéfaction': 4382, 'recontaminer': 3773, 'chocolat': 620, 'bijou': 389, 'saintvalentin': 4092, 'rabattre': 3710, 'dentrée': 1137, 'parer': 3248, 'remède': 3828, 'séjourner': 4465, 'repos': 3854, 'dhôtel': 1186, 'réquisitionner': 4025, 'bourguignon': 437, 'résider': 4032, 'réussite': 4046, 'surfer': 4422, 'généralement': 2008, 'contagiosité': 848, 'démarrage': 1458, 'pirater': 3375, 'marée': 2840, 'téléconsultation': 4676, 'concertstest': 772, 'contrarié': 871, 'négligence': 3142, 'conflit': 797, 'pédopsychiatre': 3657, 'ressentiment': 3874, 'resserrer': 3876, 'saintetienne': 4082, 'commissariat': 726, 'vatican': 4747, 'employé': 1579, 'létau': 2755, 'pleinair': 3402, 'scandale': 4153, 'renault': 3831, 'déconomie': 1403, 'sarkozy': 4132, 'accentuation': 11, 'sentretenir': 4193, 'affronter': 67, 'interministériel': 2214, 'dantibe': 1046, 'leonetti': 2517, 'incohérence': 2143, 'localement': 2648, 'céder': 982, 'opticien': 3186, 'niçois': 3095, 'léventualité': 2760, 'autoconfinement': 287, 'lélu': 2744, 'interpellation': 2220, 'codogno': 684, 'peau': 3307, 'survi': 4431, 'sceptique': 4156, 'gallois': 1918, 'psa': 3626, 'hébreu': 2083, 'aviv': 307, 'julien': 2321, 'grégory': 1996, 'doucet': 1327, 'viande': 4773, 'lagriculture': 2376, 'union': 4694, 'injuste': 2183, 'présidence': 3614, 'sattendre': 4141, 'consentement': 818, 'temporairement': 4523, 'légal': 2734, 'difficilement': 1199, 'douche': 1328, 'répartition': 4015, 'dapprovisionnement': 1054, 'sattend': 4139, 'enrayer': 1604, 'lencadrement': 2496, 'trompe': 4656, 'voler': 4837, 'souci': 4307, 'développe': 1536, 'chant': 589, 'global': 1949, 'genève': 1937, 'antoine': 178, 'flahault': 1805, 'myopie': 3013, 'cheffe': 605, 'candidature': 517, 'logiciel': 2656, 'gériatr': 2020, 'dunkerquois': 1356, 'reconfinent': 3768, 'tempérer': 4528, 'dinvestissement': 1238, 'comparaison': 736, 'librairie': 2570, 'flamber': 1806, 'inefficace': 2165, 'flasher': 1809, 'kmh': 2344, 'basrhin': 347, 'secret': 4173, 'streaming': 4378, 'dintérêt': 1237, 'refléter': 3795, 'inédit': 2252, 'regroupement': 3805, 'préoccupation': 3600, 'milite': 2918, 'prôner': 3625, 'pv': 3647, 'demimesure': 1121, 'klein': 2343, 'territorialiser': 4549, 'vider': 4782, 'limpression': 2597, 'similaire': 4232, 'encaisser': 1583, 'lunédic': 2709, 'ffr': 1772, 'monoclonau': 2966, 'alarmant': 91, 'investisseur': 2245, 'indemniser': 2148, 'dexploitation': 1172, 'figurer': 1782, 'attali': 256, 'allocation': 111, 'fumé': 1899, 'zoom': 4892, 'descroquerie': 1149, 'démanteler': 1456, 'détourner': 1527, 'cellule': 560, 'décourager': 1405, 'amer': 124, 'ostéopathe': 3208, 'prône': 3624, 'rebondir': 3751, 'contrescarpe': 877, 'sassurer': 4135, 'désigner': 1509, 'simpliquer': 4237, 'patric': 3291, 'vergriete': 4766, 'bateau': 351, 'verdict': 4765, 'ministériel': 2930, 'essayer': 1644, 'dargenteuil': 1060, 'salve': 4107, 'mcfly': 2870, 'carlito': 534, 'dupontaignan': 1357, 'cnewsle': 677, 'coquerel': 892, 'scepticisme': 4155, 'conservation': 820, 'florian': 1813, 'indépendant': 2163, 'solitude': 4287, 'attester': 264, 'gagnaire': 1913, 'inhumain': 2177, 'riverain': 3919, 'ghanéen': 1942, 'suspens': 4438, 'taxer': 4514, 'opposition': 3184, 'sacem': 4063, 'fred': 1877, 'testot': 4553, 'lhumorist': 2559, 'dinnovation': 1227, 'sagesfemme': 4073, 'dater': 1076, 'sérieusement': 4482, 'hélène': 2084, 'darroze': 1065, 'top': 4586, 'tunnel': 4666, 'paysba': 3304, 'quaucun': 3685, 'décrocher': 1412, 'interpol': 2222, 'vittoria': 4822, 'colizzer': 694, 'turc': 4667, 'carburant': 530, 'sécouler': 4460, 'reconner': 3772, 'daugmentation': 1083, 'dalliance': 1024, 'lautriche': 2462, 'éloigné': 4942, 'saintomer': 4088, 'exercice': 1682, 'alliance': 109, 'assume': 241, 'abivax': 4, 'arrête': 220, 'hautsdeseine': 2043, 'manquement': 2807, 'transporteur': 4633, 'td': 4516, 'arrêt': 219, 'commercialisation': 721, 'barrer': 341, 'variante': 4744, 'bagneux': 320, 'laméricain': 2392, 'lusine': 2713, 'sursis': 4427, 'certainement': 569, 'montbéliard': 2971, 'ségolène': 4463, 'royal': 3952, 'lancienn': 2399, 'prioriser': 3487, 'denquêteur': 1128, 'dominic': 1303, 'griev': 1979, 'langleterre': 2400, 'concéder': 783, 'anti': 164, 'mexiqu': 2899, 'élire': 4940, 'stérile': 4385, 'buzyn': 478, 'guerlain': 1999, 'véroniqu': 4864, 'poutine': 3458, 'conjoint': 805, 'moscou': 2984, 'psychothérapeute': 3636, 'etchebest': 1659, 'nonréouvertur': 3106, 'scanner': 4154, 'lavantage': 2464, 'didentifier': 1194, 'mc': 2869, 'kinsey': 2341, 'thème': 4568, 'médicosocial': 3027, 'implication': 2118, 'hautesalpe': 2038, 'menace': 2879, 'réveillon': 4047, 'saintsylvestre': 4091, 'roubai': 3936, 'froguel': 1882, 'deuxsèvrer': 1165, 'itinérant': 2265, 'croixrouge': 950, 'enquêteur': 1602, 'sinterroge': 4251, 'pilote': 3372, 'charlevillemézière': 598, 'lillois': 2585, 'biotechnologie': 396, 'sappuier': 4130, 'dhôpitaux': 1185, 'laffluence': 2370, 'dessine': 1154, 'mutant': 3011, 'mifévrier': 2910, 'tricolore': 4651, 'bayer': 355, 'gravissime': 1976, 'faculté': 1733, 'bénin': 482, 'grandchose': 1966, 'foenkino': 1821, 'décevant': 1386, 'demigroupe': 1119, 'fac': 1725, 'démeute': 1461, 'limposition': 2596, 'marcolivier': 2816, 'fogiel': 1822, 'antenne': 163, 'côtedor': 991, 'lallier': 2385, 'sénior': 4477, 'réinfection': 4004, 'naitre': 3048, 'elizabeth': 1565, 'ii': 2093, 'époux': 4961, 'rubirola': 3955, 'marine': 2824, 'pen': 3312, 'marc': 2811, 'arièg': 210, 'midécembre': 2908, 'joindre': 2301, 'dirigetell': 1249, 'chômeur': 636, 'larcher': 2426, 'fabrique': 1723, 'clarté': 655, 'lexplication': 2539, 'orpi': 3205, 'poppie': 3426, 'dhonorer': 1181, 'simulateur': 4238, 'firme': 1800, 'sexe': 4212, 'chantier': 592, 'fincantieri': 1798, 'politologue': 3419, 'adp': 56, 'courbe': 914, 'senvoler': 4194, 'faillite': 1737, 'professeure': 3517, 'quaver': 3688, 'cholet': 625, 'couvrefeux': 922, 'yazdan': 4879, 'yazdanpanah': 4880, 'quaujourdhui': 3686, 'inscription': 2190, 'maitriser': 2784, 'partiellement': 3270, 'dappliquer': 1052, 'extrascolaire': 1715, 'proviseur': 3569, 'faisabilité': 1739, 'bobkiewicz': 410, 'snpden': 4266, 'émailler': 4946, 'cesser': 574, 'ridicule': 3913, 'constitutionnel': 834, 'juridiction': 2323, 'induire': 2160, 'termine': 4540, 'nempêche': 3070, 'robot': 3924, 'invention': 2241, 'dordinair': 1313, 'maritime': 2827, 'lempathi': 2493, 'lenfant': 2500, 'applique': 191, 'trump': 4664, 'fatidique': 1747, 'sélargir': 4466, 'intriguer': 2233, 'œnologie': 4998, 'vin': 4792, 'plaindre': 3387, 'destaing': 1155, 'med': 2872, 'georges': 1939, 'tron': 4657, 'youn': 4882, 'coopératif': 886, 'psychique': 3633, 'plaza': 3400, 'cynthia': 979, 'fleury': 1811, 'teufeur': 4554, 'emmanuell': 1574, 'wargon': 4867, 'laps': 2424, 'mandat': 2800, 'donald': 1307, 'panel': 3230, 'schelcher': 4157, 'puydedôme': 3646, 'cascadeur': 543, 'rémy': 4009, 'lentraîneur': 2512, 'real': 3748, 'madrid': 2772, 'zinédine': 4889, 'dieppe': 1197, 'honorer': 2067, 'pallier': 3227, 'prédécesseur': 3592, 'approchent': 198, 'écrouer': 4921, 'artisanal': 225, 'milliardaire': 2920, 'saccompagner': 4056, 'saffronter': 4070, 'mask': 2843, 'singer': 4239, 'jenemeconfineraipa': 2288, 'adieu': 45, 'stéphanie': 4384, 'sattaquer': 4138, 'neurone': 3078, 'consentir': 819, 'langon': 2401, 'colchicine': 690, 'daubervillier': 1082, 'minimiser': 2926, 'novavax': 3128, 'intrafamilial': 2232, 'queue': 3692, 'incapable': 2135, 'écart': 4897, 'lorier': 2681, 'désamorcer': 1505, 'laction': 2361, 'serum': 4204, 'india': 2149, 'tenon': 4533, 'jurer': 2322, 'lerreur': 2519, 'lunef': 2705, 'spécialité': 4346, 'creyssel': 938, 'sentraîner': 4192, 'piarrou': 3366, 'parasitologie': 3242, 'tolérer': 4584, 'beaugrenelle': 362, 'décoller': 1398, 'rave': 3744, 'lieuron': 2580, 'douvre': 1333, 'coincé': 689, 'vivement': 4825, 'alainmichel': 90, 'ceretti': 568, 'lacheminement': 2360, 'parti': 3260, 'skier': 4262, 'bitcoin': 397, 'cryptomonnaie': 955, 'tabac': 4496, 'légard': 2736, 'julie': 2320, 'gayet': 1934, 'blancsmanteal': 401, 'traverse': 4641, 'mulhous': 2997, 'lanterne': 2410, 'perronne': 3331, 'démis': 1462, 'complotiste': 746, 'caricaturer': 533, 'villani': 4790, 'francjeu': 1867, 'inégalitaire': 2253, 'mik': 2914, 'penny': 3315, 'fief': 1779, 'delawar': 1108, 'colis': 691, 'dhl': 1179, 'conjoncture': 806, 'systématiquement': 4455, 'baule': 354, 'cadeau': 493, 'fnacdarty': 1818, 'carbonique': 529, 'peuton': 3345, 'réforme': 3991, 'enchère': 1585, 'farine': 1745, 'roule': 3940, 'lécrivain': 2730, 'newyorkais': 3081, 'lautoconfinement': 2456, 'volontariat': 4839, 'weber': 4871, 'furieux': 1901, 'bartaba': 343, 'calogero': 506, 'jétais': 2335, 'album': 93, 'lextrêm': 2545, 'auvergnerhônealpe': 295, 'mariegeorge': 2820, 'buffet': 468, 'antivax': 177, 'soffre': 4272, 'délectricité': 1447, 'puur': 3645, 'expédier': 1706, 'colissimo': 693, 'connecticut': 810, 'retour': 3894, 'recomposer': 3764, 'brexit': 453, 'naturaliser': 3060, 'camion': 510, 'romain': 3932, 'administrateur': 48, 'toyota': 4606, 'instituer': 2201, 'pérenne': 3665, 'go': 1951, 'interminable': 2213, 'soleil': 4281, 'ferrand': 1767, 'rungi': 3959, 'lalsace': 2388, 'basculer': 344, 'levalloisperret': 2532, 'oxmo': 3220, 'puccino': 3642, 'limmense': 2591, 'viard': 4774, 'voc': 4828, 'sevran': 4211, 'jouet': 2306, 'traumatisme': 4635, 'antécédent': 180, 'tiktok': 4574, 'photo': 3361, 'troubler': 4660, 'injustifié': 2184, 'calme': 504, 'dilleetvilain': 1209, 'incontrôlé': 2146, 'anticipant': 166, 'berléand': 376, 'meurtheetmoselle': 2897, 'guadeloupéen': 1998, 'conner': 811, 'fichier': 1776, 'métro': 3040, 'plume': 3408, 'sonner': 4296, 'cleancovid': 661, 'julia': 2318, 'funès': 1900, 'laïcité': 2474, 'combatif': 710, 'mauricette': 2864, 'caviste': 556, 'supercongélateur': 4408, 'bayrou': 357, 'rebsamen': 3753, 'sacraliser': 4065}\n"
     ]
    }
   ],
   "source": [
    "#pd.DataFrame(data=Train_X_Tfidf.toarray(), columns=Tfidf_vect.vocabulary_)\n",
    "print(Tfidf_vect.vocabulary_)"
   ]
  },
  {
   "cell_type": "code",
   "execution_count": 90,
   "id": "e6c44497",
   "metadata": {
    "scrolled": true
   },
   "outputs": [
    {
     "name": "stdout",
     "output_type": "stream",
     "text": [
      "  (0, 4369)\t0.2684725683709742\n",
      "  (0, 4271)\t0.4467818163118111\n",
      "  (0, 4270)\t0.2752994322700048\n",
      "  (0, 3359)\t0.2532902983337102\n",
      "  (0, 2981)\t0.12926935646812251\n",
      "  (0, 2961)\t0.19220338802648398\n",
      "  (0, 2894)\t0.14947325010551163\n",
      "  (0, 2856)\t0.15855065045583674\n",
      "  (0, 2790)\t0.15822074448770806\n",
      "  (0, 2292)\t0.12261977297878596\n",
      "  (0, 2286)\t0.2627005371881062\n",
      "  (0, 2248)\t0.14195931949558302\n",
      "  (0, 1952)\t0.29442683042802387\n",
      "  (0, 1875)\t0.2532902983337102\n",
      "  (0, 1862)\t0.08884703838697798\n",
      "  (0, 1693)\t0.19302636808137755\n",
      "  (0, 1164)\t0.1283706552849778\n",
      "  (0, 941)\t0.25615163689085435\n",
      "  (0, 925)\t0.11617938945809977\n",
      "  (0, 286)\t0.25770057635118854\n",
      "  (1, 4971)\t0.11375050927838094\n",
      "  (1, 4849)\t0.09422649160696421\n",
      "  (1, 4835)\t0.13331335505254868\n",
      "  (1, 4746)\t0.32043362126564834\n",
      "  (1, 4475)\t0.14472804351467644\n",
      "  :\t:\n",
      "  (2292, 291)\t0.12951842643749328\n",
      "  (2292, 15)\t0.32384526994921947\n",
      "  (2293, 4872)\t0.09837248838408309\n",
      "  (2293, 4849)\t0.0997705514610661\n",
      "  (2293, 4593)\t0.31060442138058836\n",
      "  (2293, 4404)\t0.13003675231636186\n",
      "  (2293, 4114)\t0.1739573695765774\n",
      "  (2293, 3735)\t0.1495962375921632\n",
      "  (2293, 3734)\t0.13785037858094326\n",
      "  (2293, 3333)\t0.07461464675069875\n",
      "  (2293, 3261)\t0.15530221069029418\n",
      "  (2293, 3255)\t0.15530221069029418\n",
      "  (2293, 3199)\t0.14000280059119818\n",
      "  (2293, 3019)\t0.13890212181427564\n",
      "  (2293, 2617)\t0.586911323461308\n",
      "  (2293, 2563)\t0.09723657456432477\n",
      "  (2293, 2218)\t0.16005014494248743\n",
      "  (2293, 1910)\t0.11151641047228603\n",
      "  (2293, 1768)\t0.1739573695765774\n",
      "  (2293, 1764)\t0.1006081726276823\n",
      "  (2293, 1600)\t0.3779121571832303\n",
      "  (2293, 1390)\t0.1074859834342423\n",
      "  (2293, 1354)\t0.06425226882551255\n",
      "  (2293, 1208)\t0.18604367081947099\n",
      "  (2293, 622)\t0.2778042436285513\n"
     ]
    }
   ],
   "source": [
    "print(Train_X_Tfidf)"
   ]
  },
  {
   "cell_type": "markdown",
   "id": "f4defbf1",
   "metadata": {},
   "source": [
    "### Naive Bayes Classifier Algorithm"
   ]
  },
  {
   "cell_type": "code",
   "execution_count": 91,
   "id": "7f81d8b9",
   "metadata": {
    "scrolled": true
   },
   "outputs": [
    {
     "name": "stdout",
     "output_type": "stream",
     "text": [
      "Naive Bayes Accuracy Score ->  0.5331010452961672\n"
     ]
    },
    {
     "data": {
      "text/plain": [
       "array([1, 0, 0, 1, 1, 1, 1, 1, 1, 1, 0, 0, 0, 1, 1, 0, 0, 0, 0, 1, 1, 0,\n",
       "       1, 0, 0, 1, 1, 1, 1, 0, 1, 1, 0, 0, 0, 1, 0, 0, 0, 1, 0, 1, 0, 1,\n",
       "       0, 1, 1, 0, 1, 1, 1, 0, 0, 1, 0, 1, 1, 1, 1, 1, 0, 1, 1, 1, 1, 0,\n",
       "       1, 1, 0, 1, 0, 1, 1, 1, 0, 0, 1, 1, 0, 0, 0, 0, 0, 0, 1, 1, 0, 0,\n",
       "       0, 0, 1, 0, 0, 0, 0, 0, 1, 1, 0, 1, 0, 0, 1, 0, 0, 1, 0, 1, 1, 1,\n",
       "       0, 1, 1, 0, 0, 1, 1, 0, 1, 1, 1, 0, 0, 1, 0, 0, 0, 0, 1, 1, 1, 1,\n",
       "       0, 0, 0, 1, 0, 0, 1, 1, 0, 0, 1, 0, 1, 1, 0, 1, 1, 1, 1, 0, 1, 1,\n",
       "       1, 0, 0, 1, 0, 0, 0, 0, 0, 1, 1, 1, 1, 1, 1, 1, 1, 1, 0, 0, 0, 0,\n",
       "       0, 1, 1, 1, 1, 0, 0, 0, 1, 0, 1, 0, 0, 0, 0, 0, 0, 1, 0, 0, 1, 0,\n",
       "       1, 0, 0, 1, 0, 0, 1, 0, 1, 0, 1, 0, 1, 0, 0, 1, 0, 0, 0, 0, 1, 1,\n",
       "       1, 0, 1, 0, 0, 0, 1, 1, 0, 0, 1, 0, 0, 0, 0, 0, 1, 1, 0, 1, 1, 1,\n",
       "       1, 0, 0, 1, 1, 1, 0, 0, 1, 0, 0, 0, 1, 1, 1, 0, 1, 1, 1, 1, 0, 1,\n",
       "       1, 1, 0, 0, 1, 1, 0, 1, 1, 1, 0, 0, 1, 0, 0, 0, 0, 0, 1, 1, 0, 1,\n",
       "       0, 0, 0, 0, 0, 0, 1, 0, 0, 1, 0, 1, 1, 1, 0, 0, 1, 0, 1, 0, 0, 1,\n",
       "       1, 0, 0, 1, 0, 0, 1, 0, 1, 0, 1, 1, 0, 0, 1, 0, 0, 1, 0, 1, 1, 0,\n",
       "       1, 1, 1, 1, 1, 0, 1, 0, 1, 1, 1, 0, 0, 0, 1, 0, 1, 1, 1, 1, 1, 0,\n",
       "       0, 0, 1, 0, 0, 1, 0, 0, 1, 0, 1, 1, 1, 1, 1, 1, 1, 1, 0, 1, 0, 1,\n",
       "       1, 0, 1, 0, 1, 1, 1, 0, 1, 1, 0, 1, 1, 1, 0, 0, 0, 0, 0, 0, 0, 0,\n",
       "       0, 0, 1, 0, 1, 1, 0, 0, 0, 1, 0, 0, 1, 1, 1, 1, 0, 1, 0, 0, 1, 1,\n",
       "       0, 1, 0, 1, 1, 1, 0, 0, 1, 0, 0, 0, 1, 0, 0, 0, 1, 1, 0, 0, 1, 1,\n",
       "       1, 0, 0, 1, 0, 1, 1, 1, 1, 0, 1, 0, 0, 1, 1, 1, 1, 1, 1, 0, 1, 1,\n",
       "       1, 0, 0, 0, 0, 0, 0, 1, 0, 1, 1, 1, 1, 0, 1, 0, 1, 0, 0, 1, 0, 1,\n",
       "       1, 1, 1, 0, 0, 0, 1, 0, 0, 1, 1, 0, 1, 0, 1, 0, 0, 1, 1, 1, 1, 1,\n",
       "       0, 0, 0, 1, 1, 0, 1, 1, 1, 1, 0, 0, 1, 0, 1, 0, 0, 0, 1, 1, 1, 0,\n",
       "       0, 1, 0, 1, 1, 1, 0, 1, 0, 0, 0, 1, 0, 1, 1, 0, 1, 1, 1, 1, 1, 1,\n",
       "       0, 1, 0, 0, 0, 1, 0, 1, 0, 0, 1, 1, 0, 0, 1, 0, 0, 0, 0, 0, 1, 1,\n",
       "       1, 1], dtype=int64)"
      ]
     },
     "execution_count": 91,
     "metadata": {},
     "output_type": "execute_result"
    }
   ],
   "source": [
    "# fit the training dataset on the NB classifier\n",
    "Naive = naive_bayes.MultinomialNB()\n",
    "Naive.fit(Train_X_Tfidf,Train_Y)\n",
    "# predict the labels on validation dataset\n",
    "predictions_NB = Naive.predict(Test_X_Tfidf)\n",
    "# Use accuracy_score function to get the accuracy\n",
    "\n",
    "print(\"Naive Bayes Accuracy Score -> \",accuracy_score(predictions_NB, Test_Y)*1)\n",
    "predictions_NB"
   ]
  },
  {
   "cell_type": "markdown",
   "id": "e3745e8c",
   "metadata": {},
   "source": [
    "## ----------------------------"
   ]
  },
  {
   "cell_type": "markdown",
   "id": "0bd5e651",
   "metadata": {},
   "source": [
    "### SVM Algorithm Classifier"
   ]
  },
  {
   "cell_type": "code",
   "execution_count": 128,
   "id": "8d1e4c08",
   "metadata": {},
   "outputs": [
    {
     "name": "stdout",
     "output_type": "stream",
     "text": [
      "SVM Accuracy Score ->  0.5139372822299652\n"
     ]
    }
   ],
   "source": [
    "# fit the training dataset on the classifier\n",
    "SVM = svm.SVC(C=2.0, kernel='linear', degree=3, gamma='auto')\n",
    "SVM.fit(Train_X_Tfidf,Train_Y)\n",
    "# predict the labels on validation dataset\n",
    "predictions_SVM = SVM.predict(Test_X_Tfidf)\n",
    "# Use accuracy_score function to get the accuracy\n",
    "print(\"SVM Accuracy Score -> \",accuracy_score(predictions_SVM, Test_Y)*1)"
   ]
  },
  {
   "cell_type": "markdown",
   "id": "3619fcd0",
   "metadata": {},
   "source": [
    "## -----------------------"
   ]
  },
  {
   "cell_type": "code",
   "execution_count": 94,
   "id": "6e630132",
   "metadata": {},
   "outputs": [
    {
     "name": "stdout",
     "output_type": "stream",
     "text": [
      "\n",
      "Training time: 0.213s\n",
      "Prediction time (train): 0.318s\n",
      "Prediction time (test): 0.307s\n",
      "\n",
      "Train set score: 0.9110723626852659\n",
      "Test set score: 0.9110723626852659\n"
     ]
    }
   ],
   "source": [
    "from sklearn.naive_bayes import GaussianNB\n",
    "from time import time\n",
    "t0 = time()\n",
    "model = GaussianNB()\n",
    "model.fit(Train_X_Tfidf.toarray(), Train_Y)\n",
    "print(f\"\\nTraining time: {round(time()-t0, 3)}s\")\n",
    "t0 = time()\n",
    "score_train = model.score(Train_X_Tfidf.toarray(), Train_Y)\n",
    "print(f\"Prediction time (train): {round(time()-t0, 3)}s\")\n",
    "t0 = time()\n",
    "score_test = model.score(Train_X_Tfidf.toarray(), Train_Y)\n",
    "print(f\"Prediction time (test): {round(time()-t0, 3)}s\")\n",
    "print(\"\\nTrain set score:\", score_train)\n",
    "print(\"Test set score:\", score_test)"
   ]
  },
  {
   "cell_type": "code",
   "execution_count": 173,
   "id": "d59e5082",
   "metadata": {},
   "outputs": [
    {
     "name": "stdout",
     "output_type": "stream",
     "text": [
      "Enter news a tester :  Covid  231.800 doses administrées, 109 nouveaux cas ce lundi 14 juin 2021 COMPENSATION : LA CHARGE EXPLOSE À FIN MAI 2021 TAN-TAN: 35 MIGRANTS SUBSAHARIENS SECOURUS  Plus de 2.300 personnes ont reçu la première dose. Le cumul atteint 9,36 millions de personnes. En parallèle, 229.565 personnes ont reçu la deuxième dose, soit 7,32 millions au total. 18 nouveaux cas sévères ont été enregistrés ce lundi 14 juin.  ----------------------------------------------  Enter news a tester :  Une star de la chanson francophone vient compléter ce jury: Mylène Farmer. La native du Québec, interprète de tubes comme \"Sans contrefaçon\" ou \"Désenchantée\", est \"indissociable du monde de l'image et du cinéma qui la fascine depuis toujours\", notamment au travers de ses clips, souligne le festival.   --------------------------------------------  la tristesse ou une humeur fluctuante;l'irritabilité; l'anxiété;des troubles du sommeil (insomnie ou hypersomnie);une perte ou un gain de poids significatif;une perte d'appétit ou des rages de manger;le manque d'énergie ou lafatigue;une difficulté à se concentrer; Covid  231.800 doses administrées, 109 nouveaux cas ce lundi 14 juin 2021 COMPENSATION : LA CHARGE EXPLOSE À FIN MAI 2021 TAN-TAN: 35 MIGRANTS SUBSAHARIENS SECOURUS  Plus de 2.300 personnes ont reçu la première dose. Le cumul atteint 9,36 millions de personnes. En parallèle, 229.565 personnes ont reçu la deuxième dose, soit 7,32 millions au total. 18 nouveaux cas sévères ont été enregistrés ce lundi 14 juin.\n",
      "\n",
      "\n",
      "\n",
      "****  Naive Bayes  :    Real ||  ********  SVM : Real\n"
     ]
    }
   ],
   "source": [
    "def enter_news():\n",
    "    news=input(\"Enter news a tester :  \")\n",
    "    return news\n",
    "news=  enter_news()\n",
    "##----------------------------------------------------------\n",
    "data3= pd.DataFrame() \n",
    "\n",
    "def clean_data(text):\n",
    "     \n",
    "    for ch in ['·','\\ufeff','\\u200b','\\\"\"','.',',','%','\\\\','`','«', '_','{','}','[',']','(',')','>','#','+','-','!','$','\\'','/','»',':','“','”','xa0','\"\"','1','2','3','4','5','6','7','8','9','0','?','!','’']:\n",
    "        if ch in text:\n",
    "            text = text.replace(ch,\"\")\n",
    "           \n",
    "    return text\n",
    "\n",
    " \n",
    "df2=clean_data(news)\n",
    "data3.loc[0,'text'] = str(df2)\n",
    "data3['text']  \n",
    "data3\n",
    "##----------------------------------------------------------\n",
    "# Step - b : Change all the text to lower case. This is required as python interprets 'dog' and 'DOG' differently\n",
    "data3['text'] = [entry.lower() for entry in data3['text']]\n",
    "\n",
    "# Step - c : Tokenization : In this each entry in the corpus will be broken into set of words\n",
    "data3['text']= [word_tokenize(entry) for entry in data3['text']]\n",
    "\n",
    "\n",
    "data3['text']\n",
    "##----------------------------------------------------------\n",
    "from spacy.lang.fr.stop_words import STOP_WORDS as fr_stop\n",
    "\n",
    "final_stopwords_list = list(fr_stop) \n",
    "\n",
    "##----------------------------------------------------\n",
    "import spacy\n",
    "from spacy.lang.fr.examples import sentences \n",
    "import fr_core_news_md\n",
    "from spacy.lang.en import English     \n",
    "##-----------\n",
    "nlp = spacy.load('fr_core_news_md')     \n",
    "##-----------\n",
    "for index,entry in enumerate(data3['text']):\n",
    "    # Declaring Empty List to store the words that follow the rules for this step\n",
    "    Final_words = []\n",
    "    # Initializing WordNetLemmatizer()\n",
    "    word_Lemmatized = WordNetLemmatizer()\n",
    "    # pos_tag function below will provide the 'tag' i.e if the word is Noun(N) or Verb(V) or something else.\n",
    "    for word, tag in pos_tag(entry):\n",
    "        # Below condition is to check for Stop words and consider only alphabets\n",
    "        # \n",
    "        if word not in final_stopwords_list and word.isalpha():\n",
    "            #word_Final = word_Lemmatized.lemmatize(word)\n",
    "            word_Final = word\n",
    "            #steaming\n",
    "            doc = nlp(str(word_Final)) \n",
    "            for token in doc:\n",
    "                word_Final =  token.lemma_\n",
    "            \n",
    "            #word_Final=stemming(word_Final)\n",
    "            Final_words.append(word_Final)\n",
    "    # The final processed set of words for each iteration will be stored in 'text_final'\n",
    "    data3.loc[index,'text_final'] = str(Final_words)\n",
    "##---------------------------------------------------------------------------\n",
    "\n",
    " \n",
    " \n",
    "data3['text_final'][0]\n",
    "news_p= Tfidf_vect.transform(data3['text_final'])\n",
    "predictions_news_p = Naive.predict(news_p)\n",
    "\n",
    "resultat = \"****  Naive Bayes  :    \"\n",
    "#print(\" **************************  Naive Bayes  : \")\n",
    "if predictions_news_p==1:\n",
    "    \n",
    "    resultat=resultat+\"Real\"\n",
    "else :\n",
    "    resultat=resultat+\"Fake\"\n",
    "#print(\" **************************  SVM : \")\n",
    "predictions_nes = SVM.predict(news_p)\n",
    "\n",
    "resultat=resultat+ \" ||  ********  SVM : \"\n",
    "if predictions_nes==1:\n",
    "    \n",
    "    resultat=resultat+\"Real\"\n",
    "else :\n",
    "    resultat=resultat+\"Fake\"\n",
    "\n",
    "print(\"\\n\\n\")\n",
    "print(resultat)    "
   ]
  },
  {
   "cell_type": "code",
   "execution_count": null,
   "id": "787fb3a4",
   "metadata": {},
   "outputs": [],
   "source": []
  }
 ],
 "metadata": {
  "kernelspec": {
   "display_name": "Python 3",
   "language": "python",
   "name": "python3"
  },
  "language_info": {
   "codemirror_mode": {
    "name": "ipython",
    "version": 3
   },
   "file_extension": ".py",
   "mimetype": "text/x-python",
   "name": "python",
   "nbconvert_exporter": "python",
   "pygments_lexer": "ipython3",
   "version": "3.9.1"
  }
 },
 "nbformat": 4,
 "nbformat_minor": 5
}
